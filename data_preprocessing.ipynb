{
 "cells": [
  {
   "cell_type": "code",
   "execution_count": 3,
   "metadata": {
    "ExecuteTime": {
     "end_time": "2023-09-09T14:59:54.401364Z",
     "start_time": "2023-09-09T14:59:54.385062Z"
    }
   },
   "outputs": [],
   "source": [
    "import pandas as pd\n",
    "import numpy as np\n",
    "import glob\n",
    "import os\n",
    "import zipfile\n",
    "from datetime import datetime"
   ]
  },
  {
   "cell_type": "code",
   "execution_count": 4,
   "metadata": {
    "ExecuteTime": {
     "end_time": "2023-09-09T14:59:55.479235Z",
     "start_time": "2023-09-09T14:59:54.394688Z"
    }
   },
   "outputs": [],
   "source": [
    "try:\n",
    "    os.mkdir('year_details')\n",
    "except FileExistsError:\n",
    "    pass\n",
    "\n",
    "try:\n",
    "    os.mkdir('year_details_update')\n",
    "except FileExistsError:\n",
    "    pass\n",
    "\n",
    "names = os.listdir(r\"year_details\")\n",
    "with zipfile.ZipFile('year_details.zip', 'r') as zip:\n",
    "    zip.extractall('year_details')\n",
    "\n",
    "path = r'year_details'\n",
    "\n",
    "csv_files = glob.glob(path + \"/*.csv\")\n",
    "\n",
    "# Read each CSV file into DataFrame and create a list of dataframes\n",
    "\n",
    "df_list = (pd.read_csv(file, sep=';') for file in csv_files)\n",
    "\n",
    "currency_name = []\n",
    "\n",
    "for name in names:\n",
    "    \n",
    "    currency_name.append(name.split('_')[0])\n",
    "\n",
    "\n",
    "i = 0\n",
    "for file in csv_files:\n",
    "    df = pd.read_csv(file, sep=';')\n",
    "    df[\"Name\"] = currency_name[i]\n",
    "    df.to_csv(\"year_details_update/\" + currency_name[i] + '.csv', index=0, sep=\";\")\n",
    "    i += 1\n",
    "\n"
   ]
  },
  {
   "cell_type": "code",
   "execution_count": 5,
   "metadata": {
    "ExecuteTime": {
     "end_time": "2023-09-09T14:59:55.496767Z",
     "start_time": "2023-09-09T14:59:55.479933Z"
    }
   },
   "outputs": [
    {
     "data": {
      "text/plain": "     Rank               Name  Symbol  \\\n0       1            Bitcoin     BTC   \n1       2           Ethereum     ETH   \n2       3        Tether USDt    USDT   \n3       4                BNB     BNB   \n4       5                XRP     XRP   \n..    ...                ...     ...   \n195   196           PlayDapp     PLA   \n196   197      Pundi X (New)  PUNDIX   \n197   198  Vulcan Forged PYR     PYR   \n198   199             Status     SNT   \n199   200                Amp     AMP   \n\n                                              MainLink  \\\n0        https://coinmarketcap.com/currencies/bitcoin/   \n1       https://coinmarketcap.com/currencies/ethereum/   \n2         https://coinmarketcap.com/currencies/tether/   \n3            https://coinmarketcap.com/currencies/bnb/   \n4            https://coinmarketcap.com/currencies/xrp/   \n..                                                 ...   \n195     https://coinmarketcap.com/currencies/playdapp/   \n196   https://coinmarketcap.com/currencies/pundix-new/   \n197  https://coinmarketcap.com/currencies/vulcan-fo...   \n198       https://coinmarketcap.com/currencies/status/   \n199          https://coinmarketcap.com/currencies/amp/   \n\n                                        HistoricalLink  \\\n0    https://coinmarketcap.com/currencies/bitcoin/h...   \n1    https://coinmarketcap.com/currencies/ethereum/...   \n2    https://coinmarketcap.com/currencies/tether/hi...   \n3    https://coinmarketcap.com/currencies/bnb/histo...   \n4    https://coinmarketcap.com/currencies/xrp/histo...   \n..                                                 ...   \n195  https://coinmarketcap.com/currencies/playdapp/...   \n196  https://coinmarketcap.com/currencies/pundix-ne...   \n197  https://coinmarketcap.com/currencies/vulcan-fo...   \n198  https://coinmarketcap.com/currencies/status/hi...   \n199  https://coinmarketcap.com/currencies/amp/histo...   \n\n                                                  tags  \\\n0    [{'tag': 'Mineable', 'url': 'https://coinmarke...   \n1    [{'tag': 'PoS', 'url': 'https://coinmarketcap....   \n2    [{'tag': 'Payments', 'url': 'https://coinmarke...   \n3    [{'tag': 'Marketplace', 'url': 'https://coinma...   \n4    [{'tag': 'Medium of Exchange', 'url': 'https:/...   \n..                                                 ...   \n195  [{'tag': 'Gaming', 'url': 'https://coinmarketc...   \n196                                                 []   \n197  [{'tag': 'Collectibles & NFTs', 'url': 'https:...   \n198  [{'tag': 'Media', 'url': 'https://coinmarketca...   \n199  [{'tag': 'SEC Security Token', 'url': 'https:/...   \n\n                                  github_url  \n0         https://github.com/bitcoin/bitcoin  \n1    https://github.com/ethereum/go-ethereum  \n2                                        NaN  \n3               https://github.com/bnb-chain  \n4          https://github.com/ripple/rippled  \n..                                       ...  \n195              https://github.com/playdapp  \n196                                      NaN  \n197                                      NaN  \n198             https://github.com/status-im  \n199              https://github.com/amptoken  \n\n[200 rows x 7 columns]",
      "text/html": "<div>\n<style scoped>\n    .dataframe tbody tr th:only-of-type {\n        vertical-align: middle;\n    }\n\n    .dataframe tbody tr th {\n        vertical-align: top;\n    }\n\n    .dataframe thead th {\n        text-align: right;\n    }\n</style>\n<table border=\"1\" class=\"dataframe\">\n  <thead>\n    <tr style=\"text-align: right;\">\n      <th></th>\n      <th>Rank</th>\n      <th>Name</th>\n      <th>Symbol</th>\n      <th>MainLink</th>\n      <th>HistoricalLink</th>\n      <th>tags</th>\n      <th>github_url</th>\n    </tr>\n  </thead>\n  <tbody>\n    <tr>\n      <th>0</th>\n      <td>1</td>\n      <td>Bitcoin</td>\n      <td>BTC</td>\n      <td>https://coinmarketcap.com/currencies/bitcoin/</td>\n      <td>https://coinmarketcap.com/currencies/bitcoin/h...</td>\n      <td>[{'tag': 'Mineable', 'url': 'https://coinmarke...</td>\n      <td>https://github.com/bitcoin/bitcoin</td>\n    </tr>\n    <tr>\n      <th>1</th>\n      <td>2</td>\n      <td>Ethereum</td>\n      <td>ETH</td>\n      <td>https://coinmarketcap.com/currencies/ethereum/</td>\n      <td>https://coinmarketcap.com/currencies/ethereum/...</td>\n      <td>[{'tag': 'PoS', 'url': 'https://coinmarketcap....</td>\n      <td>https://github.com/ethereum/go-ethereum</td>\n    </tr>\n    <tr>\n      <th>2</th>\n      <td>3</td>\n      <td>Tether USDt</td>\n      <td>USDT</td>\n      <td>https://coinmarketcap.com/currencies/tether/</td>\n      <td>https://coinmarketcap.com/currencies/tether/hi...</td>\n      <td>[{'tag': 'Payments', 'url': 'https://coinmarke...</td>\n      <td>NaN</td>\n    </tr>\n    <tr>\n      <th>3</th>\n      <td>4</td>\n      <td>BNB</td>\n      <td>BNB</td>\n      <td>https://coinmarketcap.com/currencies/bnb/</td>\n      <td>https://coinmarketcap.com/currencies/bnb/histo...</td>\n      <td>[{'tag': 'Marketplace', 'url': 'https://coinma...</td>\n      <td>https://github.com/bnb-chain</td>\n    </tr>\n    <tr>\n      <th>4</th>\n      <td>5</td>\n      <td>XRP</td>\n      <td>XRP</td>\n      <td>https://coinmarketcap.com/currencies/xrp/</td>\n      <td>https://coinmarketcap.com/currencies/xrp/histo...</td>\n      <td>[{'tag': 'Medium of Exchange', 'url': 'https:/...</td>\n      <td>https://github.com/ripple/rippled</td>\n    </tr>\n    <tr>\n      <th>...</th>\n      <td>...</td>\n      <td>...</td>\n      <td>...</td>\n      <td>...</td>\n      <td>...</td>\n      <td>...</td>\n      <td>...</td>\n    </tr>\n    <tr>\n      <th>195</th>\n      <td>196</td>\n      <td>PlayDapp</td>\n      <td>PLA</td>\n      <td>https://coinmarketcap.com/currencies/playdapp/</td>\n      <td>https://coinmarketcap.com/currencies/playdapp/...</td>\n      <td>[{'tag': 'Gaming', 'url': 'https://coinmarketc...</td>\n      <td>https://github.com/playdapp</td>\n    </tr>\n    <tr>\n      <th>196</th>\n      <td>197</td>\n      <td>Pundi X (New)</td>\n      <td>PUNDIX</td>\n      <td>https://coinmarketcap.com/currencies/pundix-new/</td>\n      <td>https://coinmarketcap.com/currencies/pundix-ne...</td>\n      <td>[]</td>\n      <td>NaN</td>\n    </tr>\n    <tr>\n      <th>197</th>\n      <td>198</td>\n      <td>Vulcan Forged PYR</td>\n      <td>PYR</td>\n      <td>https://coinmarketcap.com/currencies/vulcan-fo...</td>\n      <td>https://coinmarketcap.com/currencies/vulcan-fo...</td>\n      <td>[{'tag': 'Collectibles &amp; NFTs', 'url': 'https:...</td>\n      <td>NaN</td>\n    </tr>\n    <tr>\n      <th>198</th>\n      <td>199</td>\n      <td>Status</td>\n      <td>SNT</td>\n      <td>https://coinmarketcap.com/currencies/status/</td>\n      <td>https://coinmarketcap.com/currencies/status/hi...</td>\n      <td>[{'tag': 'Media', 'url': 'https://coinmarketca...</td>\n      <td>https://github.com/status-im</td>\n    </tr>\n    <tr>\n      <th>199</th>\n      <td>200</td>\n      <td>Amp</td>\n      <td>AMP</td>\n      <td>https://coinmarketcap.com/currencies/amp/</td>\n      <td>https://coinmarketcap.com/currencies/amp/histo...</td>\n      <td>[{'tag': 'SEC Security Token', 'url': 'https:/...</td>\n      <td>https://github.com/amptoken</td>\n    </tr>\n  </tbody>\n</table>\n<p>200 rows × 7 columns</p>\n</div>"
     },
     "execution_count": 5,
     "metadata": {},
     "output_type": "execute_result"
    }
   ],
   "source": [
    "currency_df = pd.read_csv(\n",
    "    \"detailed_coins.csv\"\n",
    ")\n",
    "\n",
    "currency_df"
   ]
  },
  {
   "cell_type": "code",
   "execution_count": 6,
   "metadata": {
    "ExecuteTime": {
     "end_time": "2023-09-09T14:59:55.965458Z",
     "start_time": "2023-09-09T14:59:55.495970Z"
    }
   },
   "outputs": [
    {
     "data": {
      "text/plain": "                       timeOpen                 timeClose  \\\n0      2023-09-03T00:00:00.000Z  2023-09-03T23:59:59.999Z   \n1      2023-09-02T00:00:00.000Z  2023-09-02T23:59:59.999Z   \n2      2023-09-01T00:00:00.000Z  2023-09-01T23:59:59.999Z   \n3      2023-08-31T00:00:00.000Z  2023-08-31T23:59:59.999Z   \n4      2023-08-30T00:00:00.000Z  2023-08-30T23:59:59.999Z   \n...                         ...                       ...   \n69992  2022-09-09T00:00:00.000Z  2022-09-09T23:59:59.999Z   \n69993  2022-09-08T00:00:00.000Z  2022-09-08T23:59:59.999Z   \n69994  2022-09-07T00:00:00.000Z  2022-09-07T23:59:59.999Z   \n69995  2022-09-06T00:00:00.000Z  2022-09-06T23:59:59.999Z   \n69996  2022-09-05T00:00:00.000Z  2022-09-05T23:59:59.999Z   \n\n                       timeHigh                   timeLow       open  \\\n0      2023-09-03T00:18:00.000Z  2023-09-03T17:09:00.000Z  22.118424   \n1      2023-09-02T15:32:00.000Z  2023-09-02T03:43:00.000Z  22.226988   \n2      2023-09-01T09:30:00.000Z  2023-09-01T17:53:00.000Z  22.425345   \n3      2023-08-31T02:32:00.000Z  2023-08-31T22:37:00.000Z  23.844969   \n4      2023-08-30T15:04:00.000Z  2023-08-30T23:52:00.000Z  23.928132   \n...                         ...                       ...        ...   \n69992  2022-09-09T14:40:00.000Z  2022-09-09T00:07:00.000Z   0.172809   \n69993  2022-09-08T10:51:00.000Z  2022-09-08T23:38:00.000Z   0.180729   \n69994  2022-09-07T20:35:00.000Z  2022-09-07T00:25:00.000Z   0.160813   \n69995  2022-09-06T05:52:00.000Z  2022-09-06T22:34:00.000Z   0.167330   \n69996  2022-09-05T23:47:00.000Z  2022-09-05T10:49:00.000Z   0.164176   \n\n            high        low      close       volume     marketCap  \\\n0      22.134155  21.245415  22.007561   4143538.56  4.334250e+08   \n1      22.378814  21.973939  22.112976   2786720.99  4.355011e+08   \n2      22.617469  21.838625  22.230870   3325798.48  4.378230e+08   \n3      24.051317  22.405723  22.425865   4976122.22  4.416633e+08   \n4      24.717275  23.843541  23.851016   7496710.34  4.679759e+08   \n...          ...        ...        ...          ...           ...   \n69992   0.184173   0.172616   0.180033  17857314.08  1.103780e+08   \n69993   0.184709   0.172417   0.172877  20517487.85  1.059910e+08   \n69994   0.183087   0.158008   0.180746  31035397.11  1.108152e+08   \n69995   0.173249   0.160693   0.160876  13153927.35  9.863266e+07   \n69996   0.167693   0.161478   0.167324   5721766.11  1.025861e+08   \n\n                      timestamp            Name  \n0      2023-09-03T23:59:59.999Z     Rocket Pool  \n1      2023-09-02T23:59:59.999Z     Rocket Pool  \n2      2023-09-01T23:59:59.999Z     Rocket Pool  \n3      2023-08-31T23:59:59.999Z     Rocket Pool  \n4      2023-08-30T23:59:59.999Z     Rocket Pool  \n...                         ...             ...  \n69992  2022-09-09T23:59:59.999Z  Ocean Protocol  \n69993  2022-09-08T23:59:59.999Z  Ocean Protocol  \n69994  2022-09-07T23:59:59.999Z  Ocean Protocol  \n69995  2022-09-06T23:59:59.999Z  Ocean Protocol  \n69996  2022-09-05T23:59:59.999Z  Ocean Protocol  \n\n[69997 rows x 12 columns]",
      "text/html": "<div>\n<style scoped>\n    .dataframe tbody tr th:only-of-type {\n        vertical-align: middle;\n    }\n\n    .dataframe tbody tr th {\n        vertical-align: top;\n    }\n\n    .dataframe thead th {\n        text-align: right;\n    }\n</style>\n<table border=\"1\" class=\"dataframe\">\n  <thead>\n    <tr style=\"text-align: right;\">\n      <th></th>\n      <th>timeOpen</th>\n      <th>timeClose</th>\n      <th>timeHigh</th>\n      <th>timeLow</th>\n      <th>open</th>\n      <th>high</th>\n      <th>low</th>\n      <th>close</th>\n      <th>volume</th>\n      <th>marketCap</th>\n      <th>timestamp</th>\n      <th>Name</th>\n    </tr>\n  </thead>\n  <tbody>\n    <tr>\n      <th>0</th>\n      <td>2023-09-03T00:00:00.000Z</td>\n      <td>2023-09-03T23:59:59.999Z</td>\n      <td>2023-09-03T00:18:00.000Z</td>\n      <td>2023-09-03T17:09:00.000Z</td>\n      <td>22.118424</td>\n      <td>22.134155</td>\n      <td>21.245415</td>\n      <td>22.007561</td>\n      <td>4143538.56</td>\n      <td>4.334250e+08</td>\n      <td>2023-09-03T23:59:59.999Z</td>\n      <td>Rocket Pool</td>\n    </tr>\n    <tr>\n      <th>1</th>\n      <td>2023-09-02T00:00:00.000Z</td>\n      <td>2023-09-02T23:59:59.999Z</td>\n      <td>2023-09-02T15:32:00.000Z</td>\n      <td>2023-09-02T03:43:00.000Z</td>\n      <td>22.226988</td>\n      <td>22.378814</td>\n      <td>21.973939</td>\n      <td>22.112976</td>\n      <td>2786720.99</td>\n      <td>4.355011e+08</td>\n      <td>2023-09-02T23:59:59.999Z</td>\n      <td>Rocket Pool</td>\n    </tr>\n    <tr>\n      <th>2</th>\n      <td>2023-09-01T00:00:00.000Z</td>\n      <td>2023-09-01T23:59:59.999Z</td>\n      <td>2023-09-01T09:30:00.000Z</td>\n      <td>2023-09-01T17:53:00.000Z</td>\n      <td>22.425345</td>\n      <td>22.617469</td>\n      <td>21.838625</td>\n      <td>22.230870</td>\n      <td>3325798.48</td>\n      <td>4.378230e+08</td>\n      <td>2023-09-01T23:59:59.999Z</td>\n      <td>Rocket Pool</td>\n    </tr>\n    <tr>\n      <th>3</th>\n      <td>2023-08-31T00:00:00.000Z</td>\n      <td>2023-08-31T23:59:59.999Z</td>\n      <td>2023-08-31T02:32:00.000Z</td>\n      <td>2023-08-31T22:37:00.000Z</td>\n      <td>23.844969</td>\n      <td>24.051317</td>\n      <td>22.405723</td>\n      <td>22.425865</td>\n      <td>4976122.22</td>\n      <td>4.416633e+08</td>\n      <td>2023-08-31T23:59:59.999Z</td>\n      <td>Rocket Pool</td>\n    </tr>\n    <tr>\n      <th>4</th>\n      <td>2023-08-30T00:00:00.000Z</td>\n      <td>2023-08-30T23:59:59.999Z</td>\n      <td>2023-08-30T15:04:00.000Z</td>\n      <td>2023-08-30T23:52:00.000Z</td>\n      <td>23.928132</td>\n      <td>24.717275</td>\n      <td>23.843541</td>\n      <td>23.851016</td>\n      <td>7496710.34</td>\n      <td>4.679759e+08</td>\n      <td>2023-08-30T23:59:59.999Z</td>\n      <td>Rocket Pool</td>\n    </tr>\n    <tr>\n      <th>...</th>\n      <td>...</td>\n      <td>...</td>\n      <td>...</td>\n      <td>...</td>\n      <td>...</td>\n      <td>...</td>\n      <td>...</td>\n      <td>...</td>\n      <td>...</td>\n      <td>...</td>\n      <td>...</td>\n      <td>...</td>\n    </tr>\n    <tr>\n      <th>69992</th>\n      <td>2022-09-09T00:00:00.000Z</td>\n      <td>2022-09-09T23:59:59.999Z</td>\n      <td>2022-09-09T14:40:00.000Z</td>\n      <td>2022-09-09T00:07:00.000Z</td>\n      <td>0.172809</td>\n      <td>0.184173</td>\n      <td>0.172616</td>\n      <td>0.180033</td>\n      <td>17857314.08</td>\n      <td>1.103780e+08</td>\n      <td>2022-09-09T23:59:59.999Z</td>\n      <td>Ocean Protocol</td>\n    </tr>\n    <tr>\n      <th>69993</th>\n      <td>2022-09-08T00:00:00.000Z</td>\n      <td>2022-09-08T23:59:59.999Z</td>\n      <td>2022-09-08T10:51:00.000Z</td>\n      <td>2022-09-08T23:38:00.000Z</td>\n      <td>0.180729</td>\n      <td>0.184709</td>\n      <td>0.172417</td>\n      <td>0.172877</td>\n      <td>20517487.85</td>\n      <td>1.059910e+08</td>\n      <td>2022-09-08T23:59:59.999Z</td>\n      <td>Ocean Protocol</td>\n    </tr>\n    <tr>\n      <th>69994</th>\n      <td>2022-09-07T00:00:00.000Z</td>\n      <td>2022-09-07T23:59:59.999Z</td>\n      <td>2022-09-07T20:35:00.000Z</td>\n      <td>2022-09-07T00:25:00.000Z</td>\n      <td>0.160813</td>\n      <td>0.183087</td>\n      <td>0.158008</td>\n      <td>0.180746</td>\n      <td>31035397.11</td>\n      <td>1.108152e+08</td>\n      <td>2022-09-07T23:59:59.999Z</td>\n      <td>Ocean Protocol</td>\n    </tr>\n    <tr>\n      <th>69995</th>\n      <td>2022-09-06T00:00:00.000Z</td>\n      <td>2022-09-06T23:59:59.999Z</td>\n      <td>2022-09-06T05:52:00.000Z</td>\n      <td>2022-09-06T22:34:00.000Z</td>\n      <td>0.167330</td>\n      <td>0.173249</td>\n      <td>0.160693</td>\n      <td>0.160876</td>\n      <td>13153927.35</td>\n      <td>9.863266e+07</td>\n      <td>2022-09-06T23:59:59.999Z</td>\n      <td>Ocean Protocol</td>\n    </tr>\n    <tr>\n      <th>69996</th>\n      <td>2022-09-05T00:00:00.000Z</td>\n      <td>2022-09-05T23:59:59.999Z</td>\n      <td>2022-09-05T23:47:00.000Z</td>\n      <td>2022-09-05T10:49:00.000Z</td>\n      <td>0.164176</td>\n      <td>0.167693</td>\n      <td>0.161478</td>\n      <td>0.167324</td>\n      <td>5721766.11</td>\n      <td>1.025861e+08</td>\n      <td>2022-09-05T23:59:59.999Z</td>\n      <td>Ocean Protocol</td>\n    </tr>\n  </tbody>\n</table>\n<p>69997 rows × 12 columns</p>\n</div>"
     },
     "execution_count": 6,
     "metadata": {},
     "output_type": "execute_result"
    }
   ],
   "source": [
    "# Get CSV files list from a folder\n",
    "# Check if the file exists\n",
    "if os.path.exists(\"year_details_update/full_data.csv\"):\n",
    "    # Delete the file\n",
    "    os.remove(\"year_details_update/full_data.csv\")\n",
    "\n",
    "if os.path.exists(\"year_details/full_data.csv\"):\n",
    "    # Delete the file\n",
    "    os.remove(\"year_details/full_data.csv\")\n",
    "    \n",
    "path = 'year_details_update'\n",
    "csv_files = glob.glob(path + \"/*.csv\")\n",
    "\n",
    "# Read each CSV file into DataFrame and create a list of dataframes\n",
    "\n",
    "df_list = (pd.read_csv(file, sep=';') for file in csv_files)\n",
    "\n",
    "# Concatenate all DataFrames\n",
    "year_df   = pd.concat(df_list, ignore_index=True)\n",
    "        \n",
    "year_df"
   ]
  },
  {
   "cell_type": "code",
   "execution_count": 7,
   "metadata": {
    "ExecuteTime": {
     "end_time": "2023-09-09T14:59:55.982141Z",
     "start_time": "2023-09-09T14:59:55.973497Z"
    }
   },
   "outputs": [
    {
     "data": {
      "text/plain": "199"
     },
     "execution_count": 7,
     "metadata": {},
     "output_type": "execute_result"
    }
   ],
   "source": [
    "\n",
    "len(year_df['Name'].unique())"
   ]
  },
  {
   "cell_type": "code",
   "execution_count": 8,
   "metadata": {
    "ExecuteTime": {
     "end_time": "2023-09-09T14:59:56.203131Z",
     "start_time": "2023-09-09T14:59:55.985516Z"
    }
   },
   "outputs": [
    {
     "data": {
      "text/plain": "               open          high           low         close        volume  \\\ncount  6.999700e+04  6.999700e+04  6.999700e+04  6.999700e+04  6.999700e+04   \nmean   3.258633e+02  3.313258e+02  3.204733e+02  3.259007e+02  4.560019e+08   \nstd    2.517053e+03  2.557215e+03  2.477681e+03  2.517549e+03  3.420246e+09   \nmin    5.685057e-08  7.956576e-08  2.763783e-08  6.637550e-08  6.519396e+04   \n25%    1.494411e-01  1.535567e-01  1.452989e-01  1.493806e-01  6.453371e+06   \n50%    7.931353e-01  8.170461e-01  7.679175e-01  7.909628e-01  1.862944e+07   \n75%    4.575705e+00  4.692369e+00  4.444068e+00  4.560384e+00  6.408385e+07   \nmax    3.147472e+04  3.181451e+04  3.071066e+04  3.147605e+04  1.627349e+11   \n\n          marketCap  \ncount  6.999700e+04  \nmean   5.309332e+09  \nstd    3.710255e+10  \nmin    0.000000e+00  \n25%    1.741223e+08  \n50%    3.352260e+08  \n75%    8.874301e+08  \nmax    6.115354e+11  ",
      "text/html": "<div>\n<style scoped>\n    .dataframe tbody tr th:only-of-type {\n        vertical-align: middle;\n    }\n\n    .dataframe tbody tr th {\n        vertical-align: top;\n    }\n\n    .dataframe thead th {\n        text-align: right;\n    }\n</style>\n<table border=\"1\" class=\"dataframe\">\n  <thead>\n    <tr style=\"text-align: right;\">\n      <th></th>\n      <th>open</th>\n      <th>high</th>\n      <th>low</th>\n      <th>close</th>\n      <th>volume</th>\n      <th>marketCap</th>\n    </tr>\n  </thead>\n  <tbody>\n    <tr>\n      <th>count</th>\n      <td>6.999700e+04</td>\n      <td>6.999700e+04</td>\n      <td>6.999700e+04</td>\n      <td>6.999700e+04</td>\n      <td>6.999700e+04</td>\n      <td>6.999700e+04</td>\n    </tr>\n    <tr>\n      <th>mean</th>\n      <td>3.258633e+02</td>\n      <td>3.313258e+02</td>\n      <td>3.204733e+02</td>\n      <td>3.259007e+02</td>\n      <td>4.560019e+08</td>\n      <td>5.309332e+09</td>\n    </tr>\n    <tr>\n      <th>std</th>\n      <td>2.517053e+03</td>\n      <td>2.557215e+03</td>\n      <td>2.477681e+03</td>\n      <td>2.517549e+03</td>\n      <td>3.420246e+09</td>\n      <td>3.710255e+10</td>\n    </tr>\n    <tr>\n      <th>min</th>\n      <td>5.685057e-08</td>\n      <td>7.956576e-08</td>\n      <td>2.763783e-08</td>\n      <td>6.637550e-08</td>\n      <td>6.519396e+04</td>\n      <td>0.000000e+00</td>\n    </tr>\n    <tr>\n      <th>25%</th>\n      <td>1.494411e-01</td>\n      <td>1.535567e-01</td>\n      <td>1.452989e-01</td>\n      <td>1.493806e-01</td>\n      <td>6.453371e+06</td>\n      <td>1.741223e+08</td>\n    </tr>\n    <tr>\n      <th>50%</th>\n      <td>7.931353e-01</td>\n      <td>8.170461e-01</td>\n      <td>7.679175e-01</td>\n      <td>7.909628e-01</td>\n      <td>1.862944e+07</td>\n      <td>3.352260e+08</td>\n    </tr>\n    <tr>\n      <th>75%</th>\n      <td>4.575705e+00</td>\n      <td>4.692369e+00</td>\n      <td>4.444068e+00</td>\n      <td>4.560384e+00</td>\n      <td>6.408385e+07</td>\n      <td>8.874301e+08</td>\n    </tr>\n    <tr>\n      <th>max</th>\n      <td>3.147472e+04</td>\n      <td>3.181451e+04</td>\n      <td>3.071066e+04</td>\n      <td>3.147605e+04</td>\n      <td>1.627349e+11</td>\n      <td>6.115354e+11</td>\n    </tr>\n  </tbody>\n</table>\n</div>"
     },
     "execution_count": 8,
     "metadata": {},
     "output_type": "execute_result"
    }
   ],
   "source": [
    "year_df.describe()"
   ]
  },
  {
   "cell_type": "code",
   "execution_count": 9,
   "metadata": {
    "ExecuteTime": {
     "end_time": "2023-09-09T14:59:56.304187Z",
     "start_time": "2023-09-09T14:59:56.064319Z"
    }
   },
   "outputs": [
    {
     "data": {
      "text/plain": "timeOpen     0\ntimeClose    0\ntimeHigh     0\ntimeLow      0\nopen         0\nhigh         0\nlow          0\nclose        0\nvolume       0\nmarketCap    0\ntimestamp    0\nName         0\ndtype: int64"
     },
     "execution_count": 9,
     "metadata": {},
     "output_type": "execute_result"
    }
   ],
   "source": [
    "year_df.isna().sum()"
   ]
  },
  {
   "cell_type": "code",
   "execution_count": 10,
   "metadata": {
    "ExecuteTime": {
     "end_time": "2023-09-09T14:59:56.310655Z",
     "start_time": "2023-09-09T14:59:56.083769Z"
    }
   },
   "outputs": [
    {
     "data": {
      "text/plain": "             Rank\ncount  200.000000\nmean   100.500000\nstd     57.879185\nmin      1.000000\n25%     50.750000\n50%    100.500000\n75%    150.250000\nmax    200.000000",
      "text/html": "<div>\n<style scoped>\n    .dataframe tbody tr th:only-of-type {\n        vertical-align: middle;\n    }\n\n    .dataframe tbody tr th {\n        vertical-align: top;\n    }\n\n    .dataframe thead th {\n        text-align: right;\n    }\n</style>\n<table border=\"1\" class=\"dataframe\">\n  <thead>\n    <tr style=\"text-align: right;\">\n      <th></th>\n      <th>Rank</th>\n    </tr>\n  </thead>\n  <tbody>\n    <tr>\n      <th>count</th>\n      <td>200.000000</td>\n    </tr>\n    <tr>\n      <th>mean</th>\n      <td>100.500000</td>\n    </tr>\n    <tr>\n      <th>std</th>\n      <td>57.879185</td>\n    </tr>\n    <tr>\n      <th>min</th>\n      <td>1.000000</td>\n    </tr>\n    <tr>\n      <th>25%</th>\n      <td>50.750000</td>\n    </tr>\n    <tr>\n      <th>50%</th>\n      <td>100.500000</td>\n    </tr>\n    <tr>\n      <th>75%</th>\n      <td>150.250000</td>\n    </tr>\n    <tr>\n      <th>max</th>\n      <td>200.000000</td>\n    </tr>\n  </tbody>\n</table>\n</div>"
     },
     "execution_count": 10,
     "metadata": {},
     "output_type": "execute_result"
    }
   ],
   "source": [
    "currency_df.describe()"
   ]
  },
  {
   "cell_type": "code",
   "execution_count": 11,
   "metadata": {
    "ExecuteTime": {
     "end_time": "2023-09-09T14:59:56.339805Z",
     "start_time": "2023-09-09T14:59:56.105622Z"
    }
   },
   "outputs": [
    {
     "data": {
      "text/plain": "Rank               0\nName               0\nSymbol             0\nMainLink           0\nHistoricalLink     0\ntags               0\ngithub_url        44\ndtype: int64"
     },
     "execution_count": 11,
     "metadata": {},
     "output_type": "execute_result"
    }
   ],
   "source": [
    "currency_df.isna().sum()"
   ]
  },
  {
   "cell_type": "code",
   "execution_count": 12,
   "metadata": {
    "ExecuteTime": {
     "end_time": "2023-09-09T14:59:56.340840Z",
     "start_time": "2023-09-09T14:59:56.118992Z"
    }
   },
   "outputs": [
    {
     "data": {
      "text/plain": "timeOpen      object\ntimeClose     object\ntimeHigh      object\ntimeLow       object\nopen         float64\nhigh         float64\nlow          float64\nclose        float64\nvolume       float64\nmarketCap    float64\ntimestamp     object\nName          object\ndtype: object"
     },
     "execution_count": 12,
     "metadata": {},
     "output_type": "execute_result"
    }
   ],
   "source": [
    "year_df.dtypes"
   ]
  },
  {
   "cell_type": "code",
   "execution_count": 13,
   "metadata": {
    "ExecuteTime": {
     "end_time": "2023-09-09T14:59:59.060763Z",
     "start_time": "2023-09-09T14:59:56.137035Z"
    }
   },
   "outputs": [
    {
     "data": {
      "text/plain": "0       2023-09-03 17:09:00+00:00\n1       2023-09-02 03:43:00+00:00\n2       2023-09-01 17:53:00+00:00\n3       2023-08-31 22:37:00+00:00\n4       2023-08-30 23:52:00+00:00\n                   ...           \n69992   2022-09-09 00:07:00+00:00\n69993   2022-09-08 23:38:00+00:00\n69994   2022-09-07 00:25:00+00:00\n69995   2022-09-06 22:34:00+00:00\n69996   2022-09-05 10:49:00+00:00\nName: timeLow, Length: 69997, dtype: datetime64[ns, UTC]"
     },
     "execution_count": 13,
     "metadata": {},
     "output_type": "execute_result"
    }
   ],
   "source": [
    "year_df[\"timeOpen\"] = pd.to_datetime(year_df[\"timeOpen\"])\n",
    "year_df[\"timeClose\"] = pd.to_datetime(year_df[\"timeClose\"])\n",
    "year_df[\"timeHigh\"] = pd.to_datetime(year_df[\"timeHigh\"])\n",
    "year_df[\"timeLow\"] = pd.to_datetime(year_df[\"timeLow\"])\n",
    "\n",
    "# convert datetime64[ns] to datetime\n",
    "year_df[\"timeOpen\"].apply(lambda x: x.to_pydatetime())\n",
    "year_df[\"timeClose\"].apply(lambda x: x.to_pydatetime())\n",
    "year_df[\"timeHigh\"].apply(lambda x: x.to_pydatetime())\n",
    "year_df[\"timeLow\"].apply(lambda x: x.to_pydatetime())\n",
    "\n",
    "\n"
   ]
  },
  {
   "cell_type": "code",
   "execution_count": 14,
   "metadata": {
    "ExecuteTime": {
     "end_time": "2023-09-09T14:59:59.061587Z",
     "start_time": "2023-09-09T14:59:59.050922Z"
    }
   },
   "outputs": [
    {
     "data": {
      "text/plain": "datetime64[ns, UTC]"
     },
     "execution_count": 14,
     "metadata": {},
     "output_type": "execute_result"
    }
   ],
   "source": [
    "year_df[\"timeHigh\"].dtypes"
   ]
  },
  {
   "cell_type": "code",
   "execution_count": 15,
   "metadata": {
    "ExecuteTime": {
     "end_time": "2023-09-09T14:59:59.085112Z",
     "start_time": "2023-09-09T14:59:59.063990Z"
    }
   },
   "outputs": [
    {
     "data": {
      "text/plain": "pandas.core.series.Series"
     },
     "execution_count": 15,
     "metadata": {},
     "output_type": "execute_result"
    }
   ],
   "source": [
    "# year_df[\"timeOpen\"] = year_df[\"timeOpen\"].dt.to_pydatetime()\n",
    "type(year_df[\"timeOpen\"])"
   ]
  },
  {
   "cell_type": "code",
   "execution_count": 16,
   "metadata": {
    "ExecuteTime": {
     "end_time": "2023-09-09T15:00:00.819914Z",
     "start_time": "2023-09-09T14:59:59.074225Z"
    }
   },
   "outputs": [
    {
     "data": {
      "text/plain": "0       2023-09-03 23:59:59.999000+00:00\n1       2023-09-02 23:59:59.999000+00:00\n2       2023-09-01 23:59:59.999000+00:00\n3       2023-08-31 23:59:59.999000+00:00\n4       2023-08-30 23:59:59.999000+00:00\n                      ...               \n69992   2022-09-09 23:59:59.999000+00:00\n69993   2022-09-08 23:59:59.999000+00:00\n69994   2022-09-07 23:59:59.999000+00:00\n69995   2022-09-06 23:59:59.999000+00:00\n69996   2022-09-05 23:59:59.999000+00:00\nName: timeClose, Length: 69997, dtype: datetime64[ns, UTC]"
     },
     "execution_count": 16,
     "metadata": {},
     "output_type": "execute_result"
    }
   ],
   "source": [
    "# Create a new CSV file\n",
    "with open(\"year_details_update/full_data.csv\", 'w') as file:\n",
    "    year_df.to_csv(\"year_details_update/full_data.csv\", index=0)\n",
    "\n",
    "\n",
    "year_df[\"timeClose\"]"
   ]
  },
  {
   "cell_type": "code",
   "execution_count": 17,
   "metadata": {
    "ExecuteTime": {
     "end_time": "2023-09-09T15:00:00.830899Z",
     "start_time": "2023-09-09T15:00:00.821150Z"
    }
   },
   "outputs": [
    {
     "data": {
      "text/plain": "                       timeOpen                        timeClose  \\\n0     2023-09-03 00:00:00+00:00 2023-09-03 23:59:59.999000+00:00   \n1     2023-09-02 00:00:00+00:00 2023-09-02 23:59:59.999000+00:00   \n2     2023-09-01 00:00:00+00:00 2023-09-01 23:59:59.999000+00:00   \n3     2023-08-31 00:00:00+00:00 2023-08-31 23:59:59.999000+00:00   \n4     2023-08-30 00:00:00+00:00 2023-08-30 23:59:59.999000+00:00   \n...                         ...                              ...   \n69992 2022-09-09 00:00:00+00:00 2022-09-09 23:59:59.999000+00:00   \n69993 2022-09-08 00:00:00+00:00 2022-09-08 23:59:59.999000+00:00   \n69994 2022-09-07 00:00:00+00:00 2022-09-07 23:59:59.999000+00:00   \n69995 2022-09-06 00:00:00+00:00 2022-09-06 23:59:59.999000+00:00   \n69996 2022-09-05 00:00:00+00:00 2022-09-05 23:59:59.999000+00:00   \n\n                       timeHigh                   timeLow       open  \\\n0     2023-09-03 00:18:00+00:00 2023-09-03 17:09:00+00:00  22.118424   \n1     2023-09-02 15:32:00+00:00 2023-09-02 03:43:00+00:00  22.226988   \n2     2023-09-01 09:30:00+00:00 2023-09-01 17:53:00+00:00  22.425345   \n3     2023-08-31 02:32:00+00:00 2023-08-31 22:37:00+00:00  23.844969   \n4     2023-08-30 15:04:00+00:00 2023-08-30 23:52:00+00:00  23.928132   \n...                         ...                       ...        ...   \n69992 2022-09-09 14:40:00+00:00 2022-09-09 00:07:00+00:00   0.172809   \n69993 2022-09-08 10:51:00+00:00 2022-09-08 23:38:00+00:00   0.180729   \n69994 2022-09-07 20:35:00+00:00 2022-09-07 00:25:00+00:00   0.160813   \n69995 2022-09-06 05:52:00+00:00 2022-09-06 22:34:00+00:00   0.167330   \n69996 2022-09-05 23:47:00+00:00 2022-09-05 10:49:00+00:00   0.164176   \n\n            high        low      close       volume     marketCap  \\\n0      22.134155  21.245415  22.007561   4143538.56  4.334250e+08   \n1      22.378814  21.973939  22.112976   2786720.99  4.355011e+08   \n2      22.617469  21.838625  22.230870   3325798.48  4.378230e+08   \n3      24.051317  22.405723  22.425865   4976122.22  4.416633e+08   \n4      24.717275  23.843541  23.851016   7496710.34  4.679759e+08   \n...          ...        ...        ...          ...           ...   \n69992   0.184173   0.172616   0.180033  17857314.08  1.103780e+08   \n69993   0.184709   0.172417   0.172877  20517487.85  1.059910e+08   \n69994   0.183087   0.158008   0.180746  31035397.11  1.108152e+08   \n69995   0.173249   0.160693   0.160876  13153927.35  9.863266e+07   \n69996   0.167693   0.161478   0.167324   5721766.11  1.025861e+08   \n\n                      timestamp            Name  \n0      2023-09-03T23:59:59.999Z     Rocket Pool  \n1      2023-09-02T23:59:59.999Z     Rocket Pool  \n2      2023-09-01T23:59:59.999Z     Rocket Pool  \n3      2023-08-31T23:59:59.999Z     Rocket Pool  \n4      2023-08-30T23:59:59.999Z     Rocket Pool  \n...                         ...             ...  \n69992  2022-09-09T23:59:59.999Z  Ocean Protocol  \n69993  2022-09-08T23:59:59.999Z  Ocean Protocol  \n69994  2022-09-07T23:59:59.999Z  Ocean Protocol  \n69995  2022-09-06T23:59:59.999Z  Ocean Protocol  \n69996  2022-09-05T23:59:59.999Z  Ocean Protocol  \n\n[69997 rows x 12 columns]",
      "text/html": "<div>\n<style scoped>\n    .dataframe tbody tr th:only-of-type {\n        vertical-align: middle;\n    }\n\n    .dataframe tbody tr th {\n        vertical-align: top;\n    }\n\n    .dataframe thead th {\n        text-align: right;\n    }\n</style>\n<table border=\"1\" class=\"dataframe\">\n  <thead>\n    <tr style=\"text-align: right;\">\n      <th></th>\n      <th>timeOpen</th>\n      <th>timeClose</th>\n      <th>timeHigh</th>\n      <th>timeLow</th>\n      <th>open</th>\n      <th>high</th>\n      <th>low</th>\n      <th>close</th>\n      <th>volume</th>\n      <th>marketCap</th>\n      <th>timestamp</th>\n      <th>Name</th>\n    </tr>\n  </thead>\n  <tbody>\n    <tr>\n      <th>0</th>\n      <td>2023-09-03 00:00:00+00:00</td>\n      <td>2023-09-03 23:59:59.999000+00:00</td>\n      <td>2023-09-03 00:18:00+00:00</td>\n      <td>2023-09-03 17:09:00+00:00</td>\n      <td>22.118424</td>\n      <td>22.134155</td>\n      <td>21.245415</td>\n      <td>22.007561</td>\n      <td>4143538.56</td>\n      <td>4.334250e+08</td>\n      <td>2023-09-03T23:59:59.999Z</td>\n      <td>Rocket Pool</td>\n    </tr>\n    <tr>\n      <th>1</th>\n      <td>2023-09-02 00:00:00+00:00</td>\n      <td>2023-09-02 23:59:59.999000+00:00</td>\n      <td>2023-09-02 15:32:00+00:00</td>\n      <td>2023-09-02 03:43:00+00:00</td>\n      <td>22.226988</td>\n      <td>22.378814</td>\n      <td>21.973939</td>\n      <td>22.112976</td>\n      <td>2786720.99</td>\n      <td>4.355011e+08</td>\n      <td>2023-09-02T23:59:59.999Z</td>\n      <td>Rocket Pool</td>\n    </tr>\n    <tr>\n      <th>2</th>\n      <td>2023-09-01 00:00:00+00:00</td>\n      <td>2023-09-01 23:59:59.999000+00:00</td>\n      <td>2023-09-01 09:30:00+00:00</td>\n      <td>2023-09-01 17:53:00+00:00</td>\n      <td>22.425345</td>\n      <td>22.617469</td>\n      <td>21.838625</td>\n      <td>22.230870</td>\n      <td>3325798.48</td>\n      <td>4.378230e+08</td>\n      <td>2023-09-01T23:59:59.999Z</td>\n      <td>Rocket Pool</td>\n    </tr>\n    <tr>\n      <th>3</th>\n      <td>2023-08-31 00:00:00+00:00</td>\n      <td>2023-08-31 23:59:59.999000+00:00</td>\n      <td>2023-08-31 02:32:00+00:00</td>\n      <td>2023-08-31 22:37:00+00:00</td>\n      <td>23.844969</td>\n      <td>24.051317</td>\n      <td>22.405723</td>\n      <td>22.425865</td>\n      <td>4976122.22</td>\n      <td>4.416633e+08</td>\n      <td>2023-08-31T23:59:59.999Z</td>\n      <td>Rocket Pool</td>\n    </tr>\n    <tr>\n      <th>4</th>\n      <td>2023-08-30 00:00:00+00:00</td>\n      <td>2023-08-30 23:59:59.999000+00:00</td>\n      <td>2023-08-30 15:04:00+00:00</td>\n      <td>2023-08-30 23:52:00+00:00</td>\n      <td>23.928132</td>\n      <td>24.717275</td>\n      <td>23.843541</td>\n      <td>23.851016</td>\n      <td>7496710.34</td>\n      <td>4.679759e+08</td>\n      <td>2023-08-30T23:59:59.999Z</td>\n      <td>Rocket Pool</td>\n    </tr>\n    <tr>\n      <th>...</th>\n      <td>...</td>\n      <td>...</td>\n      <td>...</td>\n      <td>...</td>\n      <td>...</td>\n      <td>...</td>\n      <td>...</td>\n      <td>...</td>\n      <td>...</td>\n      <td>...</td>\n      <td>...</td>\n      <td>...</td>\n    </tr>\n    <tr>\n      <th>69992</th>\n      <td>2022-09-09 00:00:00+00:00</td>\n      <td>2022-09-09 23:59:59.999000+00:00</td>\n      <td>2022-09-09 14:40:00+00:00</td>\n      <td>2022-09-09 00:07:00+00:00</td>\n      <td>0.172809</td>\n      <td>0.184173</td>\n      <td>0.172616</td>\n      <td>0.180033</td>\n      <td>17857314.08</td>\n      <td>1.103780e+08</td>\n      <td>2022-09-09T23:59:59.999Z</td>\n      <td>Ocean Protocol</td>\n    </tr>\n    <tr>\n      <th>69993</th>\n      <td>2022-09-08 00:00:00+00:00</td>\n      <td>2022-09-08 23:59:59.999000+00:00</td>\n      <td>2022-09-08 10:51:00+00:00</td>\n      <td>2022-09-08 23:38:00+00:00</td>\n      <td>0.180729</td>\n      <td>0.184709</td>\n      <td>0.172417</td>\n      <td>0.172877</td>\n      <td>20517487.85</td>\n      <td>1.059910e+08</td>\n      <td>2022-09-08T23:59:59.999Z</td>\n      <td>Ocean Protocol</td>\n    </tr>\n    <tr>\n      <th>69994</th>\n      <td>2022-09-07 00:00:00+00:00</td>\n      <td>2022-09-07 23:59:59.999000+00:00</td>\n      <td>2022-09-07 20:35:00+00:00</td>\n      <td>2022-09-07 00:25:00+00:00</td>\n      <td>0.160813</td>\n      <td>0.183087</td>\n      <td>0.158008</td>\n      <td>0.180746</td>\n      <td>31035397.11</td>\n      <td>1.108152e+08</td>\n      <td>2022-09-07T23:59:59.999Z</td>\n      <td>Ocean Protocol</td>\n    </tr>\n    <tr>\n      <th>69995</th>\n      <td>2022-09-06 00:00:00+00:00</td>\n      <td>2022-09-06 23:59:59.999000+00:00</td>\n      <td>2022-09-06 05:52:00+00:00</td>\n      <td>2022-09-06 22:34:00+00:00</td>\n      <td>0.167330</td>\n      <td>0.173249</td>\n      <td>0.160693</td>\n      <td>0.160876</td>\n      <td>13153927.35</td>\n      <td>9.863266e+07</td>\n      <td>2022-09-06T23:59:59.999Z</td>\n      <td>Ocean Protocol</td>\n    </tr>\n    <tr>\n      <th>69996</th>\n      <td>2022-09-05 00:00:00+00:00</td>\n      <td>2022-09-05 23:59:59.999000+00:00</td>\n      <td>2022-09-05 23:47:00+00:00</td>\n      <td>2022-09-05 10:49:00+00:00</td>\n      <td>0.164176</td>\n      <td>0.167693</td>\n      <td>0.161478</td>\n      <td>0.167324</td>\n      <td>5721766.11</td>\n      <td>1.025861e+08</td>\n      <td>2022-09-05T23:59:59.999Z</td>\n      <td>Ocean Protocol</td>\n    </tr>\n  </tbody>\n</table>\n<p>69997 rows × 12 columns</p>\n</div>"
     },
     "execution_count": 17,
     "metadata": {},
     "output_type": "execute_result"
    }
   ],
   "source": [
    "year_df"
   ]
  }
 ],
 "metadata": {
  "kernelspec": {
   "display_name": "Python 3",
   "language": "python",
   "name": "python3"
  },
  "language_info": {
   "codemirror_mode": {
    "name": "ipython",
    "version": 3
   },
   "file_extension": ".py",
   "mimetype": "text/x-python",
   "name": "python",
   "nbconvert_exporter": "python",
   "pygments_lexer": "ipython3",
   "version": "3.11.4"
  },
  "orig_nbformat": 4
 },
 "nbformat": 4,
 "nbformat_minor": 2
}
