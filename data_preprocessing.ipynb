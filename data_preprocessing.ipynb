{
 "cells": [
  {
   "cell_type": "code",
   "execution_count": 7,
   "metadata": {
    "ExecuteTime": {
     "end_time": "2023-09-09T14:59:54.401364Z",
     "start_time": "2023-09-09T14:59:54.385062Z"
    }
   },
   "outputs": [],
   "source": [
    "import pandas as pd\n",
    "import numpy as np\n",
    "import glob\n",
    "import os\n",
    "import zipfile\n",
    "from datetime import datetime"
   ]
  },
  {
   "cell_type": "code",
   "execution_count": 14,
   "metadata": {
    "ExecuteTime": {
     "end_time": "2023-09-09T14:59:55.479235Z",
     "start_time": "2023-09-09T14:59:54.394688Z"
    }
   },
   "outputs": [
    {
     "name": "stdout",
     "output_type": "stream",
     "text": [
      "['0x Protocol', '1inch Network', 'Aave', 'aelf', 'Akash Network', 'Alchemy Pay', 'Algorand', 'Amp', 'Ankr', 'ApeCoin', 'APENFT', 'Aptos', 'Aragon', 'Arbitrum', 'Arweave', 'Astar', 'Audius', 'Avalanche', 'Axelar', 'Axie Infinity', 'Balancer', 'Band Protocol', 'Basic Attention Token', 'Biconomy', 'Binance USD', 'Bitcoin Cash', 'Bitcoin Gold', 'Bitcoin SV', 'Bitcoin', 'BitTorrent(New)', 'Blur', 'BNB', 'Bone ShibaSwap', 'BORA', 'Cardano', 'Cartesi', 'Casper', 'Celer Network', 'Celo', 'Chainlink', 'Chia', 'Chiliz', 'Compound', 'Conflux', 'Convex Finance', 'Core', 'Cosmos', 'Cronos', 'Curve DAO Token', 'Dai', 'DAO Maker', 'Dash', 'Decentraland', 'Decred', 'DigiByte', 'Dogecoin', 'dYdX', 'eCash', 'Enjin Coin', 'EOS', 'Ethereum Classic', 'Ethereum Name Service', 'EthereumPoW', 'Ethereum', 'Everscale', 'Fantom', 'Fetch.ai', 'Filecoin', 'Flare', 'FLOKI', 'Flow', 'Flux', 'Frax Share', 'Gala', 'Galxe', 'GateToken', 'Gemini Dollar', 'GMX', 'Gnosis', 'Golem', 'Harmony', 'Hedera', 'Helium', 'Hive', 'Holo', 'Horizen', 'Huobi Token', 'ICON', 'Illuvium', 'Immutable', 'Injective', 'Internet Computer', 'IOST', 'IOTA', 'IoTeX', 'JasmyCoin', 'JUST', 'Kadena', 'Kava', 'Klaytn', 'KuCoin Token', 'Kusama', 'Kyber Network Crystal v2', 'Lido DAO', 'Lisk', 'Litecoin', 'Livepeer', 'Loopring', 'MAGIC', 'Maker', 'Mantle', 'Mask Network', 'Merit Circle', 'Mina', 'MobileCoin', 'Monero', 'Moonbeam', 'MultiversX', 'MX TOKEN', 'Nano', 'NEAR Protocol', 'NEM', 'Neo', 'Nervos Network', 'Nexo', 'Oasis Network', 'Ocean Protocol', 'OKB', 'Ontology', 'Optimism', 'Osmosis', 'PancakeSwap', 'Pax Dollar', 'PAX Gold', 'Pepe', 'PlayDapp', 'Polkadot', 'Polygon', 'Pundi X (New)', 'Qtum', 'Quant', 'Ravencoin', 'Render', 'Reserve Rights', 'Ribbon Finance', 'Rocket Pool', 'SafePal', 'Sei', 'Shiba Inu', 'Siacoin', 'SingularityNET', 'SKALE', 'Solana', 'Solar', 'ssv.network', 'Stacks', 'Stargate Finance', 'Status', 'Stellar', 'STEPN', 'Storj', 'STP', 'Sui', 'SushiSwap', 'Synthetix', 'Terra Classic', 'TerraClassicUSD', 'Terra', 'Tether Gold', 'Tether USDt', 'Tezos', 'The Graph', 'The Sandbox', 'Theta Fuel', 'Theta Network', 'THORChain', 'Threshold', 'TomoChain', 'Toncoin', 'TRON', 'TrueUSD', 'Trust Wallet Token', 'UMA', 'UniBot', 'Uniswap', 'UNUS SED LEO', 'USD Coin', 'USDD', 'VeChain', 'Vulcan Forged PYR', 'Waves', 'WAX', 'WOO Network', 'Worldcoin', 'Wrapped Bitcoin', 'XDC Network', 'XRP', 'yearn.finance', 'Zcash', 'Zilliqa']\n"
     ]
    }
   ],
   "source": [
    "\n",
    "try:\n",
    "    os.mkdir('year_details')\n",
    "except FileExistsError:\n",
    "    pass\n",
    "\n",
    "try:\n",
    "    os.mkdir('year_details_update')\n",
    "except FileExistsError:\n",
    "    pass\n",
    "\n",
    "names = os.listdir(r\"year_details\")\n",
    "with zipfile.ZipFile('year_details.zip', 'r') as zip:\n",
    "    zip.extractall('year_details')\n",
    "\n",
    "path = r'year_details'\n",
    "\n",
    "csv_files = glob.glob(path + \"/*.csv\")\n",
    "\n",
    "# Read each CSV file into DataFrame and create a list of dataframes\n",
    "\n",
    "df_list = (pd.read_csv(file, sep=';') for file in csv_files)\n",
    "\n",
    "currency_name = []\n",
    "\n",
    "for name in names:\n",
    "    \n",
    "    currency_name.append(name.split('_')[0])\n",
    "    \n",
    "currency_name.pop(-1)\n",
    "print(currency_name)\n",
    "\n",
    "i = 0\n",
    "for file in csv_files:\n",
    "    df = pd.read_csv(file, sep=';')\n",
    "    df[\"Name\"] = currency_name[i]\n",
    "    df.to_csv(\"year_details_update/\" + currency_name[i] + '.csv', index=0, sep=\";\")\n",
    "    i += 1\n"
   ]
  },
  {
   "cell_type": "code",
   "execution_count": 9,
   "metadata": {
    "ExecuteTime": {
     "end_time": "2023-09-09T14:59:55.496767Z",
     "start_time": "2023-09-09T14:59:55.479933Z"
    }
   },
   "outputs": [
    {
     "ename": "FileNotFoundError",
     "evalue": "[Errno 2] No such file or directory: 'detailed_coins.csv'",
     "output_type": "error",
     "traceback": [
      "\u001b[1;31m---------------------------------------------------------------------------\u001b[0m",
      "\u001b[1;31mFileNotFoundError\u001b[0m                         Traceback (most recent call last)",
      "\u001b[1;32mc:\\Users\\HP\\Downloads\\data_preprocessing.ipynb Cell 3\u001b[0m line \u001b[0;36m1\n\u001b[1;32m----> <a href='vscode-notebook-cell:/c%3A/Users/HP/Downloads/data_preprocessing.ipynb#W2sZmlsZQ%3D%3D?line=0'>1</a>\u001b[0m currency_df \u001b[39m=\u001b[39m pd\u001b[39m.\u001b[39;49mread_csv(\n\u001b[0;32m      <a href='vscode-notebook-cell:/c%3A/Users/HP/Downloads/data_preprocessing.ipynb#W2sZmlsZQ%3D%3D?line=1'>2</a>\u001b[0m     \u001b[39m\"\u001b[39;49m\u001b[39mdetailed_coins.csv\u001b[39;49m\u001b[39m\"\u001b[39;49m\n\u001b[0;32m      <a href='vscode-notebook-cell:/c%3A/Users/HP/Downloads/data_preprocessing.ipynb#W2sZmlsZQ%3D%3D?line=2'>3</a>\u001b[0m )\n\u001b[0;32m      <a href='vscode-notebook-cell:/c%3A/Users/HP/Downloads/data_preprocessing.ipynb#W2sZmlsZQ%3D%3D?line=4'>5</a>\u001b[0m currency_df\n",
      "File \u001b[1;32m~\\AppData\\Roaming\\Python\\Python311\\site-packages\\pandas\\io\\parsers\\readers.py:912\u001b[0m, in \u001b[0;36mread_csv\u001b[1;34m(filepath_or_buffer, sep, delimiter, header, names, index_col, usecols, dtype, engine, converters, true_values, false_values, skipinitialspace, skiprows, skipfooter, nrows, na_values, keep_default_na, na_filter, verbose, skip_blank_lines, parse_dates, infer_datetime_format, keep_date_col, date_parser, date_format, dayfirst, cache_dates, iterator, chunksize, compression, thousands, decimal, lineterminator, quotechar, quoting, doublequote, escapechar, comment, encoding, encoding_errors, dialect, on_bad_lines, delim_whitespace, low_memory, memory_map, float_precision, storage_options, dtype_backend)\u001b[0m\n\u001b[0;32m    899\u001b[0m kwds_defaults \u001b[39m=\u001b[39m _refine_defaults_read(\n\u001b[0;32m    900\u001b[0m     dialect,\n\u001b[0;32m    901\u001b[0m     delimiter,\n\u001b[1;32m   (...)\u001b[0m\n\u001b[0;32m    908\u001b[0m     dtype_backend\u001b[39m=\u001b[39mdtype_backend,\n\u001b[0;32m    909\u001b[0m )\n\u001b[0;32m    910\u001b[0m kwds\u001b[39m.\u001b[39mupdate(kwds_defaults)\n\u001b[1;32m--> 912\u001b[0m \u001b[39mreturn\u001b[39;00m _read(filepath_or_buffer, kwds)\n",
      "File \u001b[1;32m~\\AppData\\Roaming\\Python\\Python311\\site-packages\\pandas\\io\\parsers\\readers.py:577\u001b[0m, in \u001b[0;36m_read\u001b[1;34m(filepath_or_buffer, kwds)\u001b[0m\n\u001b[0;32m    574\u001b[0m _validate_names(kwds\u001b[39m.\u001b[39mget(\u001b[39m\"\u001b[39m\u001b[39mnames\u001b[39m\u001b[39m\"\u001b[39m, \u001b[39mNone\u001b[39;00m))\n\u001b[0;32m    576\u001b[0m \u001b[39m# Create the parser.\u001b[39;00m\n\u001b[1;32m--> 577\u001b[0m parser \u001b[39m=\u001b[39m TextFileReader(filepath_or_buffer, \u001b[39m*\u001b[39;49m\u001b[39m*\u001b[39;49mkwds)\n\u001b[0;32m    579\u001b[0m \u001b[39mif\u001b[39;00m chunksize \u001b[39mor\u001b[39;00m iterator:\n\u001b[0;32m    580\u001b[0m     \u001b[39mreturn\u001b[39;00m parser\n",
      "File \u001b[1;32m~\\AppData\\Roaming\\Python\\Python311\\site-packages\\pandas\\io\\parsers\\readers.py:1407\u001b[0m, in \u001b[0;36mTextFileReader.__init__\u001b[1;34m(self, f, engine, **kwds)\u001b[0m\n\u001b[0;32m   1404\u001b[0m     \u001b[39mself\u001b[39m\u001b[39m.\u001b[39moptions[\u001b[39m\"\u001b[39m\u001b[39mhas_index_names\u001b[39m\u001b[39m\"\u001b[39m] \u001b[39m=\u001b[39m kwds[\u001b[39m\"\u001b[39m\u001b[39mhas_index_names\u001b[39m\u001b[39m\"\u001b[39m]\n\u001b[0;32m   1406\u001b[0m \u001b[39mself\u001b[39m\u001b[39m.\u001b[39mhandles: IOHandles \u001b[39m|\u001b[39m \u001b[39mNone\u001b[39;00m \u001b[39m=\u001b[39m \u001b[39mNone\u001b[39;00m\n\u001b[1;32m-> 1407\u001b[0m \u001b[39mself\u001b[39m\u001b[39m.\u001b[39m_engine \u001b[39m=\u001b[39m \u001b[39mself\u001b[39;49m\u001b[39m.\u001b[39;49m_make_engine(f, \u001b[39mself\u001b[39;49m\u001b[39m.\u001b[39;49mengine)\n",
      "File \u001b[1;32m~\\AppData\\Roaming\\Python\\Python311\\site-packages\\pandas\\io\\parsers\\readers.py:1661\u001b[0m, in \u001b[0;36mTextFileReader._make_engine\u001b[1;34m(self, f, engine)\u001b[0m\n\u001b[0;32m   1659\u001b[0m     \u001b[39mif\u001b[39;00m \u001b[39m\"\u001b[39m\u001b[39mb\u001b[39m\u001b[39m\"\u001b[39m \u001b[39mnot\u001b[39;00m \u001b[39min\u001b[39;00m mode:\n\u001b[0;32m   1660\u001b[0m         mode \u001b[39m+\u001b[39m\u001b[39m=\u001b[39m \u001b[39m\"\u001b[39m\u001b[39mb\u001b[39m\u001b[39m\"\u001b[39m\n\u001b[1;32m-> 1661\u001b[0m \u001b[39mself\u001b[39m\u001b[39m.\u001b[39mhandles \u001b[39m=\u001b[39m get_handle(\n\u001b[0;32m   1662\u001b[0m     f,\n\u001b[0;32m   1663\u001b[0m     mode,\n\u001b[0;32m   1664\u001b[0m     encoding\u001b[39m=\u001b[39;49m\u001b[39mself\u001b[39;49m\u001b[39m.\u001b[39;49moptions\u001b[39m.\u001b[39;49mget(\u001b[39m\"\u001b[39;49m\u001b[39mencoding\u001b[39;49m\u001b[39m\"\u001b[39;49m, \u001b[39mNone\u001b[39;49;00m),\n\u001b[0;32m   1665\u001b[0m     compression\u001b[39m=\u001b[39;49m\u001b[39mself\u001b[39;49m\u001b[39m.\u001b[39;49moptions\u001b[39m.\u001b[39;49mget(\u001b[39m\"\u001b[39;49m\u001b[39mcompression\u001b[39;49m\u001b[39m\"\u001b[39;49m, \u001b[39mNone\u001b[39;49;00m),\n\u001b[0;32m   1666\u001b[0m     memory_map\u001b[39m=\u001b[39;49m\u001b[39mself\u001b[39;49m\u001b[39m.\u001b[39;49moptions\u001b[39m.\u001b[39;49mget(\u001b[39m\"\u001b[39;49m\u001b[39mmemory_map\u001b[39;49m\u001b[39m\"\u001b[39;49m, \u001b[39mFalse\u001b[39;49;00m),\n\u001b[0;32m   1667\u001b[0m     is_text\u001b[39m=\u001b[39;49mis_text,\n\u001b[0;32m   1668\u001b[0m     errors\u001b[39m=\u001b[39;49m\u001b[39mself\u001b[39;49m\u001b[39m.\u001b[39;49moptions\u001b[39m.\u001b[39;49mget(\u001b[39m\"\u001b[39;49m\u001b[39mencoding_errors\u001b[39;49m\u001b[39m\"\u001b[39;49m, \u001b[39m\"\u001b[39;49m\u001b[39mstrict\u001b[39;49m\u001b[39m\"\u001b[39;49m),\n\u001b[0;32m   1669\u001b[0m     storage_options\u001b[39m=\u001b[39;49m\u001b[39mself\u001b[39;49m\u001b[39m.\u001b[39;49moptions\u001b[39m.\u001b[39;49mget(\u001b[39m\"\u001b[39;49m\u001b[39mstorage_options\u001b[39;49m\u001b[39m\"\u001b[39;49m, \u001b[39mNone\u001b[39;49;00m),\n\u001b[0;32m   1670\u001b[0m )\n\u001b[0;32m   1671\u001b[0m \u001b[39massert\u001b[39;00m \u001b[39mself\u001b[39m\u001b[39m.\u001b[39mhandles \u001b[39mis\u001b[39;00m \u001b[39mnot\u001b[39;00m \u001b[39mNone\u001b[39;00m\n\u001b[0;32m   1672\u001b[0m f \u001b[39m=\u001b[39m \u001b[39mself\u001b[39m\u001b[39m.\u001b[39mhandles\u001b[39m.\u001b[39mhandle\n",
      "File \u001b[1;32m~\\AppData\\Roaming\\Python\\Python311\\site-packages\\pandas\\io\\common.py:859\u001b[0m, in \u001b[0;36mget_handle\u001b[1;34m(path_or_buf, mode, encoding, compression, memory_map, is_text, errors, storage_options)\u001b[0m\n\u001b[0;32m    854\u001b[0m \u001b[39melif\u001b[39;00m \u001b[39misinstance\u001b[39m(handle, \u001b[39mstr\u001b[39m):\n\u001b[0;32m    855\u001b[0m     \u001b[39m# Check whether the filename is to be opened in binary mode.\u001b[39;00m\n\u001b[0;32m    856\u001b[0m     \u001b[39m# Binary mode does not support 'encoding' and 'newline'.\u001b[39;00m\n\u001b[0;32m    857\u001b[0m     \u001b[39mif\u001b[39;00m ioargs\u001b[39m.\u001b[39mencoding \u001b[39mand\u001b[39;00m \u001b[39m\"\u001b[39m\u001b[39mb\u001b[39m\u001b[39m\"\u001b[39m \u001b[39mnot\u001b[39;00m \u001b[39min\u001b[39;00m ioargs\u001b[39m.\u001b[39mmode:\n\u001b[0;32m    858\u001b[0m         \u001b[39m# Encoding\u001b[39;00m\n\u001b[1;32m--> 859\u001b[0m         handle \u001b[39m=\u001b[39m \u001b[39mopen\u001b[39m(\n\u001b[0;32m    860\u001b[0m             handle,\n\u001b[0;32m    861\u001b[0m             ioargs\u001b[39m.\u001b[39mmode,\n\u001b[0;32m    862\u001b[0m             encoding\u001b[39m=\u001b[39mioargs\u001b[39m.\u001b[39mencoding,\n\u001b[0;32m    863\u001b[0m             errors\u001b[39m=\u001b[39merrors,\n\u001b[0;32m    864\u001b[0m             newline\u001b[39m=\u001b[39m\u001b[39m\"\u001b[39m\u001b[39m\"\u001b[39m,\n\u001b[0;32m    865\u001b[0m         )\n\u001b[0;32m    866\u001b[0m     \u001b[39melse\u001b[39;00m:\n\u001b[0;32m    867\u001b[0m         \u001b[39m# Binary mode\u001b[39;00m\n\u001b[0;32m    868\u001b[0m         handle \u001b[39m=\u001b[39m \u001b[39mopen\u001b[39m(handle, ioargs\u001b[39m.\u001b[39mmode)\n",
      "\u001b[1;31mFileNotFoundError\u001b[0m: [Errno 2] No such file or directory: 'detailed_coins.csv'"
     ]
    }
   ],
   "source": [
    "currency_df = pd.read_csv(\n",
    "    \"detailed_coins.csv\"\n",
    ")\n",
    "\n",
    "currency_df"
   ]
  },
  {
   "cell_type": "code",
   "execution_count": null,
   "metadata": {
    "ExecuteTime": {
     "end_time": "2023-09-09T14:59:55.965458Z",
     "start_time": "2023-09-09T14:59:55.495970Z"
    }
   },
   "outputs": [
    {
     "data": {
      "text/html": [
       "<div>\n",
       "<style scoped>\n",
       "    .dataframe tbody tr th:only-of-type {\n",
       "        vertical-align: middle;\n",
       "    }\n",
       "\n",
       "    .dataframe tbody tr th {\n",
       "        vertical-align: top;\n",
       "    }\n",
       "\n",
       "    .dataframe thead th {\n",
       "        text-align: right;\n",
       "    }\n",
       "</style>\n",
       "<table border=\"1\" class=\"dataframe\">\n",
       "  <thead>\n",
       "    <tr style=\"text-align: right;\">\n",
       "      <th></th>\n",
       "      <th>timeOpen</th>\n",
       "      <th>timeClose</th>\n",
       "      <th>timeHigh</th>\n",
       "      <th>timeLow</th>\n",
       "      <th>open</th>\n",
       "      <th>high</th>\n",
       "      <th>low</th>\n",
       "      <th>close</th>\n",
       "      <th>volume</th>\n",
       "      <th>marketCap</th>\n",
       "      <th>timestamp</th>\n",
       "      <th>Name</th>\n",
       "    </tr>\n",
       "  </thead>\n",
       "  <tbody>\n",
       "    <tr>\n",
       "      <th>0</th>\n",
       "      <td>2023-09-03T00:00:00.000Z</td>\n",
       "      <td>2023-09-03T23:59:59.999Z</td>\n",
       "      <td>2023-09-03T00:18:00.000Z</td>\n",
       "      <td>2023-09-03T17:09:00.000Z</td>\n",
       "      <td>22.118424</td>\n",
       "      <td>22.134155</td>\n",
       "      <td>21.245415</td>\n",
       "      <td>22.007561</td>\n",
       "      <td>4143538.56</td>\n",
       "      <td>4.334250e+08</td>\n",
       "      <td>2023-09-03T23:59:59.999Z</td>\n",
       "      <td>Rocket Pool</td>\n",
       "    </tr>\n",
       "    <tr>\n",
       "      <th>1</th>\n",
       "      <td>2023-09-02T00:00:00.000Z</td>\n",
       "      <td>2023-09-02T23:59:59.999Z</td>\n",
       "      <td>2023-09-02T15:32:00.000Z</td>\n",
       "      <td>2023-09-02T03:43:00.000Z</td>\n",
       "      <td>22.226988</td>\n",
       "      <td>22.378814</td>\n",
       "      <td>21.973939</td>\n",
       "      <td>22.112976</td>\n",
       "      <td>2786720.99</td>\n",
       "      <td>4.355011e+08</td>\n",
       "      <td>2023-09-02T23:59:59.999Z</td>\n",
       "      <td>Rocket Pool</td>\n",
       "    </tr>\n",
       "    <tr>\n",
       "      <th>2</th>\n",
       "      <td>2023-09-01T00:00:00.000Z</td>\n",
       "      <td>2023-09-01T23:59:59.999Z</td>\n",
       "      <td>2023-09-01T09:30:00.000Z</td>\n",
       "      <td>2023-09-01T17:53:00.000Z</td>\n",
       "      <td>22.425345</td>\n",
       "      <td>22.617469</td>\n",
       "      <td>21.838625</td>\n",
       "      <td>22.230870</td>\n",
       "      <td>3325798.48</td>\n",
       "      <td>4.378230e+08</td>\n",
       "      <td>2023-09-01T23:59:59.999Z</td>\n",
       "      <td>Rocket Pool</td>\n",
       "    </tr>\n",
       "    <tr>\n",
       "      <th>3</th>\n",
       "      <td>2023-08-31T00:00:00.000Z</td>\n",
       "      <td>2023-08-31T23:59:59.999Z</td>\n",
       "      <td>2023-08-31T02:32:00.000Z</td>\n",
       "      <td>2023-08-31T22:37:00.000Z</td>\n",
       "      <td>23.844969</td>\n",
       "      <td>24.051317</td>\n",
       "      <td>22.405723</td>\n",
       "      <td>22.425865</td>\n",
       "      <td>4976122.22</td>\n",
       "      <td>4.416633e+08</td>\n",
       "      <td>2023-08-31T23:59:59.999Z</td>\n",
       "      <td>Rocket Pool</td>\n",
       "    </tr>\n",
       "    <tr>\n",
       "      <th>4</th>\n",
       "      <td>2023-08-30T00:00:00.000Z</td>\n",
       "      <td>2023-08-30T23:59:59.999Z</td>\n",
       "      <td>2023-08-30T15:04:00.000Z</td>\n",
       "      <td>2023-08-30T23:52:00.000Z</td>\n",
       "      <td>23.928132</td>\n",
       "      <td>24.717275</td>\n",
       "      <td>23.843541</td>\n",
       "      <td>23.851016</td>\n",
       "      <td>7496710.34</td>\n",
       "      <td>4.679759e+08</td>\n",
       "      <td>2023-08-30T23:59:59.999Z</td>\n",
       "      <td>Rocket Pool</td>\n",
       "    </tr>\n",
       "    <tr>\n",
       "      <th>...</th>\n",
       "      <td>...</td>\n",
       "      <td>...</td>\n",
       "      <td>...</td>\n",
       "      <td>...</td>\n",
       "      <td>...</td>\n",
       "      <td>...</td>\n",
       "      <td>...</td>\n",
       "      <td>...</td>\n",
       "      <td>...</td>\n",
       "      <td>...</td>\n",
       "      <td>...</td>\n",
       "      <td>...</td>\n",
       "    </tr>\n",
       "    <tr>\n",
       "      <th>69992</th>\n",
       "      <td>2022-09-09T00:00:00.000Z</td>\n",
       "      <td>2022-09-09T23:59:59.999Z</td>\n",
       "      <td>2022-09-09T14:40:00.000Z</td>\n",
       "      <td>2022-09-09T00:07:00.000Z</td>\n",
       "      <td>0.172809</td>\n",
       "      <td>0.184173</td>\n",
       "      <td>0.172616</td>\n",
       "      <td>0.180033</td>\n",
       "      <td>17857314.08</td>\n",
       "      <td>1.103780e+08</td>\n",
       "      <td>2022-09-09T23:59:59.999Z</td>\n",
       "      <td>Ocean Protocol</td>\n",
       "    </tr>\n",
       "    <tr>\n",
       "      <th>69993</th>\n",
       "      <td>2022-09-08T00:00:00.000Z</td>\n",
       "      <td>2022-09-08T23:59:59.999Z</td>\n",
       "      <td>2022-09-08T10:51:00.000Z</td>\n",
       "      <td>2022-09-08T23:38:00.000Z</td>\n",
       "      <td>0.180729</td>\n",
       "      <td>0.184709</td>\n",
       "      <td>0.172417</td>\n",
       "      <td>0.172877</td>\n",
       "      <td>20517487.85</td>\n",
       "      <td>1.059910e+08</td>\n",
       "      <td>2022-09-08T23:59:59.999Z</td>\n",
       "      <td>Ocean Protocol</td>\n",
       "    </tr>\n",
       "    <tr>\n",
       "      <th>69994</th>\n",
       "      <td>2022-09-07T00:00:00.000Z</td>\n",
       "      <td>2022-09-07T23:59:59.999Z</td>\n",
       "      <td>2022-09-07T20:35:00.000Z</td>\n",
       "      <td>2022-09-07T00:25:00.000Z</td>\n",
       "      <td>0.160813</td>\n",
       "      <td>0.183087</td>\n",
       "      <td>0.158008</td>\n",
       "      <td>0.180746</td>\n",
       "      <td>31035397.11</td>\n",
       "      <td>1.108152e+08</td>\n",
       "      <td>2022-09-07T23:59:59.999Z</td>\n",
       "      <td>Ocean Protocol</td>\n",
       "    </tr>\n",
       "    <tr>\n",
       "      <th>69995</th>\n",
       "      <td>2022-09-06T00:00:00.000Z</td>\n",
       "      <td>2022-09-06T23:59:59.999Z</td>\n",
       "      <td>2022-09-06T05:52:00.000Z</td>\n",
       "      <td>2022-09-06T22:34:00.000Z</td>\n",
       "      <td>0.167330</td>\n",
       "      <td>0.173249</td>\n",
       "      <td>0.160693</td>\n",
       "      <td>0.160876</td>\n",
       "      <td>13153927.35</td>\n",
       "      <td>9.863266e+07</td>\n",
       "      <td>2022-09-06T23:59:59.999Z</td>\n",
       "      <td>Ocean Protocol</td>\n",
       "    </tr>\n",
       "    <tr>\n",
       "      <th>69996</th>\n",
       "      <td>2022-09-05T00:00:00.000Z</td>\n",
       "      <td>2022-09-05T23:59:59.999Z</td>\n",
       "      <td>2022-09-05T23:47:00.000Z</td>\n",
       "      <td>2022-09-05T10:49:00.000Z</td>\n",
       "      <td>0.164176</td>\n",
       "      <td>0.167693</td>\n",
       "      <td>0.161478</td>\n",
       "      <td>0.167324</td>\n",
       "      <td>5721766.11</td>\n",
       "      <td>1.025861e+08</td>\n",
       "      <td>2022-09-05T23:59:59.999Z</td>\n",
       "      <td>Ocean Protocol</td>\n",
       "    </tr>\n",
       "  </tbody>\n",
       "</table>\n",
       "<p>69997 rows × 12 columns</p>\n",
       "</div>"
      ],
      "text/plain": [
       "                       timeOpen                 timeClose  \\\n",
       "0      2023-09-03T00:00:00.000Z  2023-09-03T23:59:59.999Z   \n",
       "1      2023-09-02T00:00:00.000Z  2023-09-02T23:59:59.999Z   \n",
       "2      2023-09-01T00:00:00.000Z  2023-09-01T23:59:59.999Z   \n",
       "3      2023-08-31T00:00:00.000Z  2023-08-31T23:59:59.999Z   \n",
       "4      2023-08-30T00:00:00.000Z  2023-08-30T23:59:59.999Z   \n",
       "...                         ...                       ...   \n",
       "69992  2022-09-09T00:00:00.000Z  2022-09-09T23:59:59.999Z   \n",
       "69993  2022-09-08T00:00:00.000Z  2022-09-08T23:59:59.999Z   \n",
       "69994  2022-09-07T00:00:00.000Z  2022-09-07T23:59:59.999Z   \n",
       "69995  2022-09-06T00:00:00.000Z  2022-09-06T23:59:59.999Z   \n",
       "69996  2022-09-05T00:00:00.000Z  2022-09-05T23:59:59.999Z   \n",
       "\n",
       "                       timeHigh                   timeLow       open  \\\n",
       "0      2023-09-03T00:18:00.000Z  2023-09-03T17:09:00.000Z  22.118424   \n",
       "1      2023-09-02T15:32:00.000Z  2023-09-02T03:43:00.000Z  22.226988   \n",
       "2      2023-09-01T09:30:00.000Z  2023-09-01T17:53:00.000Z  22.425345   \n",
       "3      2023-08-31T02:32:00.000Z  2023-08-31T22:37:00.000Z  23.844969   \n",
       "4      2023-08-30T15:04:00.000Z  2023-08-30T23:52:00.000Z  23.928132   \n",
       "...                         ...                       ...        ...   \n",
       "69992  2022-09-09T14:40:00.000Z  2022-09-09T00:07:00.000Z   0.172809   \n",
       "69993  2022-09-08T10:51:00.000Z  2022-09-08T23:38:00.000Z   0.180729   \n",
       "69994  2022-09-07T20:35:00.000Z  2022-09-07T00:25:00.000Z   0.160813   \n",
       "69995  2022-09-06T05:52:00.000Z  2022-09-06T22:34:00.000Z   0.167330   \n",
       "69996  2022-09-05T23:47:00.000Z  2022-09-05T10:49:00.000Z   0.164176   \n",
       "\n",
       "            high        low      close       volume     marketCap  \\\n",
       "0      22.134155  21.245415  22.007561   4143538.56  4.334250e+08   \n",
       "1      22.378814  21.973939  22.112976   2786720.99  4.355011e+08   \n",
       "2      22.617469  21.838625  22.230870   3325798.48  4.378230e+08   \n",
       "3      24.051317  22.405723  22.425865   4976122.22  4.416633e+08   \n",
       "4      24.717275  23.843541  23.851016   7496710.34  4.679759e+08   \n",
       "...          ...        ...        ...          ...           ...   \n",
       "69992   0.184173   0.172616   0.180033  17857314.08  1.103780e+08   \n",
       "69993   0.184709   0.172417   0.172877  20517487.85  1.059910e+08   \n",
       "69994   0.183087   0.158008   0.180746  31035397.11  1.108152e+08   \n",
       "69995   0.173249   0.160693   0.160876  13153927.35  9.863266e+07   \n",
       "69996   0.167693   0.161478   0.167324   5721766.11  1.025861e+08   \n",
       "\n",
       "                      timestamp            Name  \n",
       "0      2023-09-03T23:59:59.999Z     Rocket Pool  \n",
       "1      2023-09-02T23:59:59.999Z     Rocket Pool  \n",
       "2      2023-09-01T23:59:59.999Z     Rocket Pool  \n",
       "3      2023-08-31T23:59:59.999Z     Rocket Pool  \n",
       "4      2023-08-30T23:59:59.999Z     Rocket Pool  \n",
       "...                         ...             ...  \n",
       "69992  2022-09-09T23:59:59.999Z  Ocean Protocol  \n",
       "69993  2022-09-08T23:59:59.999Z  Ocean Protocol  \n",
       "69994  2022-09-07T23:59:59.999Z  Ocean Protocol  \n",
       "69995  2022-09-06T23:59:59.999Z  Ocean Protocol  \n",
       "69996  2022-09-05T23:59:59.999Z  Ocean Protocol  \n",
       "\n",
       "[69997 rows x 12 columns]"
      ]
     },
     "execution_count": 6,
     "metadata": {},
     "output_type": "execute_result"
    }
   ],
   "source": [
    "# Get CSV files list from a folder\n",
    "# Check if the file exists\n",
    "if os.path.exists(\"year_details_update/full_data.csv\"):\n",
    "    # Delete the file\n",
    "    os.remove(\"year_details_update/full_data.csv\")\n",
    "\n",
    "if os.path.exists(\"year_details/full_data.csv\"):\n",
    "    # Delete the file\n",
    "    os.remove(\"year_details/full_data.csv\")\n",
    "    \n",
    "path = 'year_details_update'\n",
    "csv_files = glob.glob(path + \"/*.csv\")\n",
    "\n",
    "# Read each CSV file into DataFrame and create a list of dataframes\n",
    "\n",
    "df_list = (pd.read_csv(file, sep=';') for file in csv_files)\n",
    "\n",
    "# Concatenate all DataFrames\n",
    "year_df   = pd.concat(df_list, ignore_index=True)\n",
    "        \n",
    "year_df"
   ]
  },
  {
   "cell_type": "code",
   "execution_count": null,
   "metadata": {
    "ExecuteTime": {
     "end_time": "2023-09-09T14:59:55.982141Z",
     "start_time": "2023-09-09T14:59:55.973497Z"
    }
   },
   "outputs": [
    {
     "data": {
      "text/plain": [
       "199"
      ]
     },
     "execution_count": 7,
     "metadata": {},
     "output_type": "execute_result"
    }
   ],
   "source": [
    "\n",
    "len(year_df['Name'].unique())"
   ]
  },
  {
   "cell_type": "code",
   "execution_count": null,
   "metadata": {
    "ExecuteTime": {
     "end_time": "2023-09-09T14:59:56.203131Z",
     "start_time": "2023-09-09T14:59:55.985516Z"
    }
   },
   "outputs": [
    {
     "data": {
      "text/html": [
       "<div>\n",
       "<style scoped>\n",
       "    .dataframe tbody tr th:only-of-type {\n",
       "        vertical-align: middle;\n",
       "    }\n",
       "\n",
       "    .dataframe tbody tr th {\n",
       "        vertical-align: top;\n",
       "    }\n",
       "\n",
       "    .dataframe thead th {\n",
       "        text-align: right;\n",
       "    }\n",
       "</style>\n",
       "<table border=\"1\" class=\"dataframe\">\n",
       "  <thead>\n",
       "    <tr style=\"text-align: right;\">\n",
       "      <th></th>\n",
       "      <th>open</th>\n",
       "      <th>high</th>\n",
       "      <th>low</th>\n",
       "      <th>close</th>\n",
       "      <th>volume</th>\n",
       "      <th>marketCap</th>\n",
       "    </tr>\n",
       "  </thead>\n",
       "  <tbody>\n",
       "    <tr>\n",
       "      <th>count</th>\n",
       "      <td>6.999700e+04</td>\n",
       "      <td>6.999700e+04</td>\n",
       "      <td>6.999700e+04</td>\n",
       "      <td>6.999700e+04</td>\n",
       "      <td>6.999700e+04</td>\n",
       "      <td>6.999700e+04</td>\n",
       "    </tr>\n",
       "    <tr>\n",
       "      <th>mean</th>\n",
       "      <td>3.258633e+02</td>\n",
       "      <td>3.313258e+02</td>\n",
       "      <td>3.204733e+02</td>\n",
       "      <td>3.259007e+02</td>\n",
       "      <td>4.560019e+08</td>\n",
       "      <td>5.309332e+09</td>\n",
       "    </tr>\n",
       "    <tr>\n",
       "      <th>std</th>\n",
       "      <td>2.517053e+03</td>\n",
       "      <td>2.557215e+03</td>\n",
       "      <td>2.477681e+03</td>\n",
       "      <td>2.517549e+03</td>\n",
       "      <td>3.420246e+09</td>\n",
       "      <td>3.710255e+10</td>\n",
       "    </tr>\n",
       "    <tr>\n",
       "      <th>min</th>\n",
       "      <td>5.685057e-08</td>\n",
       "      <td>7.956576e-08</td>\n",
       "      <td>2.763783e-08</td>\n",
       "      <td>6.637550e-08</td>\n",
       "      <td>6.519396e+04</td>\n",
       "      <td>0.000000e+00</td>\n",
       "    </tr>\n",
       "    <tr>\n",
       "      <th>25%</th>\n",
       "      <td>1.494411e-01</td>\n",
       "      <td>1.535567e-01</td>\n",
       "      <td>1.452989e-01</td>\n",
       "      <td>1.493806e-01</td>\n",
       "      <td>6.453371e+06</td>\n",
       "      <td>1.741223e+08</td>\n",
       "    </tr>\n",
       "    <tr>\n",
       "      <th>50%</th>\n",
       "      <td>7.931353e-01</td>\n",
       "      <td>8.170461e-01</td>\n",
       "      <td>7.679175e-01</td>\n",
       "      <td>7.909628e-01</td>\n",
       "      <td>1.862944e+07</td>\n",
       "      <td>3.352260e+08</td>\n",
       "    </tr>\n",
       "    <tr>\n",
       "      <th>75%</th>\n",
       "      <td>4.575705e+00</td>\n",
       "      <td>4.692369e+00</td>\n",
       "      <td>4.444068e+00</td>\n",
       "      <td>4.560384e+00</td>\n",
       "      <td>6.408385e+07</td>\n",
       "      <td>8.874301e+08</td>\n",
       "    </tr>\n",
       "    <tr>\n",
       "      <th>max</th>\n",
       "      <td>3.147472e+04</td>\n",
       "      <td>3.181451e+04</td>\n",
       "      <td>3.071066e+04</td>\n",
       "      <td>3.147605e+04</td>\n",
       "      <td>1.627349e+11</td>\n",
       "      <td>6.115354e+11</td>\n",
       "    </tr>\n",
       "  </tbody>\n",
       "</table>\n",
       "</div>"
      ],
      "text/plain": [
       "               open          high           low         close        volume  \\\n",
       "count  6.999700e+04  6.999700e+04  6.999700e+04  6.999700e+04  6.999700e+04   \n",
       "mean   3.258633e+02  3.313258e+02  3.204733e+02  3.259007e+02  4.560019e+08   \n",
       "std    2.517053e+03  2.557215e+03  2.477681e+03  2.517549e+03  3.420246e+09   \n",
       "min    5.685057e-08  7.956576e-08  2.763783e-08  6.637550e-08  6.519396e+04   \n",
       "25%    1.494411e-01  1.535567e-01  1.452989e-01  1.493806e-01  6.453371e+06   \n",
       "50%    7.931353e-01  8.170461e-01  7.679175e-01  7.909628e-01  1.862944e+07   \n",
       "75%    4.575705e+00  4.692369e+00  4.444068e+00  4.560384e+00  6.408385e+07   \n",
       "max    3.147472e+04  3.181451e+04  3.071066e+04  3.147605e+04  1.627349e+11   \n",
       "\n",
       "          marketCap  \n",
       "count  6.999700e+04  \n",
       "mean   5.309332e+09  \n",
       "std    3.710255e+10  \n",
       "min    0.000000e+00  \n",
       "25%    1.741223e+08  \n",
       "50%    3.352260e+08  \n",
       "75%    8.874301e+08  \n",
       "max    6.115354e+11  "
      ]
     },
     "execution_count": 8,
     "metadata": {},
     "output_type": "execute_result"
    }
   ],
   "source": [
    "year_df.describe()"
   ]
  },
  {
   "cell_type": "code",
   "execution_count": null,
   "metadata": {
    "ExecuteTime": {
     "end_time": "2023-09-09T14:59:56.304187Z",
     "start_time": "2023-09-09T14:59:56.064319Z"
    }
   },
   "outputs": [
    {
     "data": {
      "text/plain": [
       "timeOpen     0\n",
       "timeClose    0\n",
       "timeHigh     0\n",
       "timeLow      0\n",
       "open         0\n",
       "high         0\n",
       "low          0\n",
       "close        0\n",
       "volume       0\n",
       "marketCap    0\n",
       "timestamp    0\n",
       "Name         0\n",
       "dtype: int64"
      ]
     },
     "execution_count": 9,
     "metadata": {},
     "output_type": "execute_result"
    }
   ],
   "source": [
    "year_df.isna().sum()"
   ]
  },
  {
   "cell_type": "code",
   "execution_count": null,
   "metadata": {
    "ExecuteTime": {
     "end_time": "2023-09-09T14:59:56.310655Z",
     "start_time": "2023-09-09T14:59:56.083769Z"
    }
   },
   "outputs": [
    {
     "data": {
      "text/html": [
       "<div>\n",
       "<style scoped>\n",
       "    .dataframe tbody tr th:only-of-type {\n",
       "        vertical-align: middle;\n",
       "    }\n",
       "\n",
       "    .dataframe tbody tr th {\n",
       "        vertical-align: top;\n",
       "    }\n",
       "\n",
       "    .dataframe thead th {\n",
       "        text-align: right;\n",
       "    }\n",
       "</style>\n",
       "<table border=\"1\" class=\"dataframe\">\n",
       "  <thead>\n",
       "    <tr style=\"text-align: right;\">\n",
       "      <th></th>\n",
       "      <th>Rank</th>\n",
       "    </tr>\n",
       "  </thead>\n",
       "  <tbody>\n",
       "    <tr>\n",
       "      <th>count</th>\n",
       "      <td>200.000000</td>\n",
       "    </tr>\n",
       "    <tr>\n",
       "      <th>mean</th>\n",
       "      <td>100.500000</td>\n",
       "    </tr>\n",
       "    <tr>\n",
       "      <th>std</th>\n",
       "      <td>57.879185</td>\n",
       "    </tr>\n",
       "    <tr>\n",
       "      <th>min</th>\n",
       "      <td>1.000000</td>\n",
       "    </tr>\n",
       "    <tr>\n",
       "      <th>25%</th>\n",
       "      <td>50.750000</td>\n",
       "    </tr>\n",
       "    <tr>\n",
       "      <th>50%</th>\n",
       "      <td>100.500000</td>\n",
       "    </tr>\n",
       "    <tr>\n",
       "      <th>75%</th>\n",
       "      <td>150.250000</td>\n",
       "    </tr>\n",
       "    <tr>\n",
       "      <th>max</th>\n",
       "      <td>200.000000</td>\n",
       "    </tr>\n",
       "  </tbody>\n",
       "</table>\n",
       "</div>"
      ],
      "text/plain": [
       "             Rank\n",
       "count  200.000000\n",
       "mean   100.500000\n",
       "std     57.879185\n",
       "min      1.000000\n",
       "25%     50.750000\n",
       "50%    100.500000\n",
       "75%    150.250000\n",
       "max    200.000000"
      ]
     },
     "execution_count": 10,
     "metadata": {},
     "output_type": "execute_result"
    }
   ],
   "source": [
    "currency_df.describe()"
   ]
  },
  {
   "cell_type": "code",
   "execution_count": null,
   "metadata": {
    "ExecuteTime": {
     "end_time": "2023-09-09T14:59:56.339805Z",
     "start_time": "2023-09-09T14:59:56.105622Z"
    }
   },
   "outputs": [
    {
     "data": {
      "text/plain": [
       "Rank               0\n",
       "Name               0\n",
       "Symbol             0\n",
       "MainLink           0\n",
       "HistoricalLink     0\n",
       "tags               0\n",
       "github_url        44\n",
       "dtype: int64"
      ]
     },
     "execution_count": 11,
     "metadata": {},
     "output_type": "execute_result"
    }
   ],
   "source": [
    "currency_df.isna().sum()"
   ]
  },
  {
   "cell_type": "code",
   "execution_count": null,
   "metadata": {
    "ExecuteTime": {
     "end_time": "2023-09-09T14:59:56.340840Z",
     "start_time": "2023-09-09T14:59:56.118992Z"
    }
   },
   "outputs": [
    {
     "data": {
      "text/plain": [
       "timeOpen      object\n",
       "timeClose     object\n",
       "timeHigh      object\n",
       "timeLow       object\n",
       "open         float64\n",
       "high         float64\n",
       "low          float64\n",
       "close        float64\n",
       "volume       float64\n",
       "marketCap    float64\n",
       "timestamp     object\n",
       "Name          object\n",
       "dtype: object"
      ]
     },
     "execution_count": 12,
     "metadata": {},
     "output_type": "execute_result"
    }
   ],
   "source": [
    "year_df.dtypes"
   ]
  },
  {
   "cell_type": "code",
   "execution_count": null,
   "metadata": {
    "ExecuteTime": {
     "end_time": "2023-09-09T14:59:59.060763Z",
     "start_time": "2023-09-09T14:59:56.137035Z"
    }
   },
   "outputs": [
    {
     "data": {
      "text/plain": [
       "0       2023-09-03 17:09:00+00:00\n",
       "1       2023-09-02 03:43:00+00:00\n",
       "2       2023-09-01 17:53:00+00:00\n",
       "3       2023-08-31 22:37:00+00:00\n",
       "4       2023-08-30 23:52:00+00:00\n",
       "                   ...           \n",
       "69992   2022-09-09 00:07:00+00:00\n",
       "69993   2022-09-08 23:38:00+00:00\n",
       "69994   2022-09-07 00:25:00+00:00\n",
       "69995   2022-09-06 22:34:00+00:00\n",
       "69996   2022-09-05 10:49:00+00:00\n",
       "Name: timeLow, Length: 69997, dtype: datetime64[ns, UTC]"
      ]
     },
     "execution_count": 13,
     "metadata": {},
     "output_type": "execute_result"
    }
   ],
   "source": [
    "year_df[\"timeOpen\"] = pd.to_datetime(year_df[\"timeOpen\"])\n",
    "year_df[\"timeClose\"] = pd.to_datetime(year_df[\"timeClose\"])\n",
    "year_df[\"timeHigh\"] = pd.to_datetime(year_df[\"timeHigh\"])\n",
    "year_df[\"timeLow\"] = pd.to_datetime(year_df[\"timeLow\"])\n",
    "year_df[\"timestamp\"] = pd.to_datetime(year_df[\"timestamp\"])\n",
    "\n",
    "# convert datetime64[ns] to datetime\n",
    "year_df[\"timeOpen\"] = year_df[\"timeOpen\"].apply(lambda x: x.to_pydatetime())\n",
    "year_df[\"timeClose\"] = year_df[\"timeClose\"].apply(lambda x: x.to_pydatetime())\n",
    "year_df[\"timeHigh\"] = year_df[\"timeHigh\"].apply(lambda x: x.to_pydatetime())\n",
    "year_df[\"timeLow\"] = year_df[\"timeLow\"].apply(lambda x: x.to_pydatetime())\n",
    "year_df[\"timestamp\"] = year_df[\"timestamp\"].apply(lambda x: x.to_pydatetime())\n",
    "\n",
    "\n"
   ]
  },
  {
   "cell_type": "code",
   "execution_count": null,
   "metadata": {
    "ExecuteTime": {
     "end_time": "2023-09-09T14:59:59.061587Z",
     "start_time": "2023-09-09T14:59:59.050922Z"
    }
   },
   "outputs": [
    {
     "data": {
      "text/plain": [
       "datetime64[ns, UTC]"
      ]
     },
     "execution_count": 14,
     "metadata": {},
     "output_type": "execute_result"
    }
   ],
   "source": [
    "year_df[\"timeHigh\"].dtypes"
   ]
  },
  {
   "cell_type": "code",
   "execution_count": null,
   "metadata": {
    "ExecuteTime": {
     "end_time": "2023-09-09T14:59:59.085112Z",
     "start_time": "2023-09-09T14:59:59.063990Z"
    }
   },
   "outputs": [
    {
     "data": {
      "text/plain": [
       "pandas.core.series.Series"
      ]
     },
     "execution_count": 15,
     "metadata": {},
     "output_type": "execute_result"
    }
   ],
   "source": [
    "# year_df[\"timeOpen\"] = year_df[\"timeOpen\"].dt.to_pydatetime()\n",
    "type(year_df[\"timeOpen\"])"
   ]
  },
  {
   "cell_type": "code",
   "execution_count": null,
   "metadata": {
    "ExecuteTime": {
     "end_time": "2023-09-09T15:00:00.819914Z",
     "start_time": "2023-09-09T14:59:59.074225Z"
    }
   },
   "outputs": [
    {
     "data": {
      "text/plain": [
       "0       2023-09-03 23:59:59.999000+00:00\n",
       "1       2023-09-02 23:59:59.999000+00:00\n",
       "2       2023-09-01 23:59:59.999000+00:00\n",
       "3       2023-08-31 23:59:59.999000+00:00\n",
       "4       2023-08-30 23:59:59.999000+00:00\n",
       "                      ...               \n",
       "69992   2022-09-09 23:59:59.999000+00:00\n",
       "69993   2022-09-08 23:59:59.999000+00:00\n",
       "69994   2022-09-07 23:59:59.999000+00:00\n",
       "69995   2022-09-06 23:59:59.999000+00:00\n",
       "69996   2022-09-05 23:59:59.999000+00:00\n",
       "Name: timeClose, Length: 69997, dtype: datetime64[ns, UTC]"
      ]
     },
     "execution_count": 16,
     "metadata": {},
     "output_type": "execute_result"
    }
   ],
   "source": [
    "# Create a new CSV file\n",
    "with open(\"year_details_update/full_data.csv\", 'w') as file:\n",
    "    year_df.to_csv(\"year_details_update/full_data.csv\", index=0)\n",
    "\n",
    "\n",
    "year_df[\"timeClose\"]"
   ]
  },
  {
   "cell_type": "code",
   "execution_count": null,
   "metadata": {
    "ExecuteTime": {
     "end_time": "2023-09-09T15:00:00.830899Z",
     "start_time": "2023-09-09T15:00:00.821150Z"
    }
   },
   "outputs": [
    {
     "data": {
      "text/html": [
       "<div>\n",
       "<style scoped>\n",
       "    .dataframe tbody tr th:only-of-type {\n",
       "        vertical-align: middle;\n",
       "    }\n",
       "\n",
       "    .dataframe tbody tr th {\n",
       "        vertical-align: top;\n",
       "    }\n",
       "\n",
       "    .dataframe thead th {\n",
       "        text-align: right;\n",
       "    }\n",
       "</style>\n",
       "<table border=\"1\" class=\"dataframe\">\n",
       "  <thead>\n",
       "    <tr style=\"text-align: right;\">\n",
       "      <th></th>\n",
       "      <th>timeOpen</th>\n",
       "      <th>timeClose</th>\n",
       "      <th>timeHigh</th>\n",
       "      <th>timeLow</th>\n",
       "      <th>open</th>\n",
       "      <th>high</th>\n",
       "      <th>low</th>\n",
       "      <th>close</th>\n",
       "      <th>volume</th>\n",
       "      <th>marketCap</th>\n",
       "      <th>timestamp</th>\n",
       "      <th>Name</th>\n",
       "    </tr>\n",
       "  </thead>\n",
       "  <tbody>\n",
       "    <tr>\n",
       "      <th>0</th>\n",
       "      <td>2023-09-03 00:00:00+00:00</td>\n",
       "      <td>2023-09-03 23:59:59.999000+00:00</td>\n",
       "      <td>2023-09-03 00:18:00+00:00</td>\n",
       "      <td>2023-09-03 17:09:00+00:00</td>\n",
       "      <td>22.118424</td>\n",
       "      <td>22.134155</td>\n",
       "      <td>21.245415</td>\n",
       "      <td>22.007561</td>\n",
       "      <td>4143538.56</td>\n",
       "      <td>4.334250e+08</td>\n",
       "      <td>2023-09-03T23:59:59.999Z</td>\n",
       "      <td>Rocket Pool</td>\n",
       "    </tr>\n",
       "    <tr>\n",
       "      <th>1</th>\n",
       "      <td>2023-09-02 00:00:00+00:00</td>\n",
       "      <td>2023-09-02 23:59:59.999000+00:00</td>\n",
       "      <td>2023-09-02 15:32:00+00:00</td>\n",
       "      <td>2023-09-02 03:43:00+00:00</td>\n",
       "      <td>22.226988</td>\n",
       "      <td>22.378814</td>\n",
       "      <td>21.973939</td>\n",
       "      <td>22.112976</td>\n",
       "      <td>2786720.99</td>\n",
       "      <td>4.355011e+08</td>\n",
       "      <td>2023-09-02T23:59:59.999Z</td>\n",
       "      <td>Rocket Pool</td>\n",
       "    </tr>\n",
       "    <tr>\n",
       "      <th>2</th>\n",
       "      <td>2023-09-01 00:00:00+00:00</td>\n",
       "      <td>2023-09-01 23:59:59.999000+00:00</td>\n",
       "      <td>2023-09-01 09:30:00+00:00</td>\n",
       "      <td>2023-09-01 17:53:00+00:00</td>\n",
       "      <td>22.425345</td>\n",
       "      <td>22.617469</td>\n",
       "      <td>21.838625</td>\n",
       "      <td>22.230870</td>\n",
       "      <td>3325798.48</td>\n",
       "      <td>4.378230e+08</td>\n",
       "      <td>2023-09-01T23:59:59.999Z</td>\n",
       "      <td>Rocket Pool</td>\n",
       "    </tr>\n",
       "    <tr>\n",
       "      <th>3</th>\n",
       "      <td>2023-08-31 00:00:00+00:00</td>\n",
       "      <td>2023-08-31 23:59:59.999000+00:00</td>\n",
       "      <td>2023-08-31 02:32:00+00:00</td>\n",
       "      <td>2023-08-31 22:37:00+00:00</td>\n",
       "      <td>23.844969</td>\n",
       "      <td>24.051317</td>\n",
       "      <td>22.405723</td>\n",
       "      <td>22.425865</td>\n",
       "      <td>4976122.22</td>\n",
       "      <td>4.416633e+08</td>\n",
       "      <td>2023-08-31T23:59:59.999Z</td>\n",
       "      <td>Rocket Pool</td>\n",
       "    </tr>\n",
       "    <tr>\n",
       "      <th>4</th>\n",
       "      <td>2023-08-30 00:00:00+00:00</td>\n",
       "      <td>2023-08-30 23:59:59.999000+00:00</td>\n",
       "      <td>2023-08-30 15:04:00+00:00</td>\n",
       "      <td>2023-08-30 23:52:00+00:00</td>\n",
       "      <td>23.928132</td>\n",
       "      <td>24.717275</td>\n",
       "      <td>23.843541</td>\n",
       "      <td>23.851016</td>\n",
       "      <td>7496710.34</td>\n",
       "      <td>4.679759e+08</td>\n",
       "      <td>2023-08-30T23:59:59.999Z</td>\n",
       "      <td>Rocket Pool</td>\n",
       "    </tr>\n",
       "    <tr>\n",
       "      <th>...</th>\n",
       "      <td>...</td>\n",
       "      <td>...</td>\n",
       "      <td>...</td>\n",
       "      <td>...</td>\n",
       "      <td>...</td>\n",
       "      <td>...</td>\n",
       "      <td>...</td>\n",
       "      <td>...</td>\n",
       "      <td>...</td>\n",
       "      <td>...</td>\n",
       "      <td>...</td>\n",
       "      <td>...</td>\n",
       "    </tr>\n",
       "    <tr>\n",
       "      <th>69992</th>\n",
       "      <td>2022-09-09 00:00:00+00:00</td>\n",
       "      <td>2022-09-09 23:59:59.999000+00:00</td>\n",
       "      <td>2022-09-09 14:40:00+00:00</td>\n",
       "      <td>2022-09-09 00:07:00+00:00</td>\n",
       "      <td>0.172809</td>\n",
       "      <td>0.184173</td>\n",
       "      <td>0.172616</td>\n",
       "      <td>0.180033</td>\n",
       "      <td>17857314.08</td>\n",
       "      <td>1.103780e+08</td>\n",
       "      <td>2022-09-09T23:59:59.999Z</td>\n",
       "      <td>Ocean Protocol</td>\n",
       "    </tr>\n",
       "    <tr>\n",
       "      <th>69993</th>\n",
       "      <td>2022-09-08 00:00:00+00:00</td>\n",
       "      <td>2022-09-08 23:59:59.999000+00:00</td>\n",
       "      <td>2022-09-08 10:51:00+00:00</td>\n",
       "      <td>2022-09-08 23:38:00+00:00</td>\n",
       "      <td>0.180729</td>\n",
       "      <td>0.184709</td>\n",
       "      <td>0.172417</td>\n",
       "      <td>0.172877</td>\n",
       "      <td>20517487.85</td>\n",
       "      <td>1.059910e+08</td>\n",
       "      <td>2022-09-08T23:59:59.999Z</td>\n",
       "      <td>Ocean Protocol</td>\n",
       "    </tr>\n",
       "    <tr>\n",
       "      <th>69994</th>\n",
       "      <td>2022-09-07 00:00:00+00:00</td>\n",
       "      <td>2022-09-07 23:59:59.999000+00:00</td>\n",
       "      <td>2022-09-07 20:35:00+00:00</td>\n",
       "      <td>2022-09-07 00:25:00+00:00</td>\n",
       "      <td>0.160813</td>\n",
       "      <td>0.183087</td>\n",
       "      <td>0.158008</td>\n",
       "      <td>0.180746</td>\n",
       "      <td>31035397.11</td>\n",
       "      <td>1.108152e+08</td>\n",
       "      <td>2022-09-07T23:59:59.999Z</td>\n",
       "      <td>Ocean Protocol</td>\n",
       "    </tr>\n",
       "    <tr>\n",
       "      <th>69995</th>\n",
       "      <td>2022-09-06 00:00:00+00:00</td>\n",
       "      <td>2022-09-06 23:59:59.999000+00:00</td>\n",
       "      <td>2022-09-06 05:52:00+00:00</td>\n",
       "      <td>2022-09-06 22:34:00+00:00</td>\n",
       "      <td>0.167330</td>\n",
       "      <td>0.173249</td>\n",
       "      <td>0.160693</td>\n",
       "      <td>0.160876</td>\n",
       "      <td>13153927.35</td>\n",
       "      <td>9.863266e+07</td>\n",
       "      <td>2022-09-06T23:59:59.999Z</td>\n",
       "      <td>Ocean Protocol</td>\n",
       "    </tr>\n",
       "    <tr>\n",
       "      <th>69996</th>\n",
       "      <td>2022-09-05 00:00:00+00:00</td>\n",
       "      <td>2022-09-05 23:59:59.999000+00:00</td>\n",
       "      <td>2022-09-05 23:47:00+00:00</td>\n",
       "      <td>2022-09-05 10:49:00+00:00</td>\n",
       "      <td>0.164176</td>\n",
       "      <td>0.167693</td>\n",
       "      <td>0.161478</td>\n",
       "      <td>0.167324</td>\n",
       "      <td>5721766.11</td>\n",
       "      <td>1.025861e+08</td>\n",
       "      <td>2022-09-05T23:59:59.999Z</td>\n",
       "      <td>Ocean Protocol</td>\n",
       "    </tr>\n",
       "  </tbody>\n",
       "</table>\n",
       "<p>69997 rows × 12 columns</p>\n",
       "</div>"
      ],
      "text/plain": [
       "                       timeOpen                        timeClose  \\\n",
       "0     2023-09-03 00:00:00+00:00 2023-09-03 23:59:59.999000+00:00   \n",
       "1     2023-09-02 00:00:00+00:00 2023-09-02 23:59:59.999000+00:00   \n",
       "2     2023-09-01 00:00:00+00:00 2023-09-01 23:59:59.999000+00:00   \n",
       "3     2023-08-31 00:00:00+00:00 2023-08-31 23:59:59.999000+00:00   \n",
       "4     2023-08-30 00:00:00+00:00 2023-08-30 23:59:59.999000+00:00   \n",
       "...                         ...                              ...   \n",
       "69992 2022-09-09 00:00:00+00:00 2022-09-09 23:59:59.999000+00:00   \n",
       "69993 2022-09-08 00:00:00+00:00 2022-09-08 23:59:59.999000+00:00   \n",
       "69994 2022-09-07 00:00:00+00:00 2022-09-07 23:59:59.999000+00:00   \n",
       "69995 2022-09-06 00:00:00+00:00 2022-09-06 23:59:59.999000+00:00   \n",
       "69996 2022-09-05 00:00:00+00:00 2022-09-05 23:59:59.999000+00:00   \n",
       "\n",
       "                       timeHigh                   timeLow       open  \\\n",
       "0     2023-09-03 00:18:00+00:00 2023-09-03 17:09:00+00:00  22.118424   \n",
       "1     2023-09-02 15:32:00+00:00 2023-09-02 03:43:00+00:00  22.226988   \n",
       "2     2023-09-01 09:30:00+00:00 2023-09-01 17:53:00+00:00  22.425345   \n",
       "3     2023-08-31 02:32:00+00:00 2023-08-31 22:37:00+00:00  23.844969   \n",
       "4     2023-08-30 15:04:00+00:00 2023-08-30 23:52:00+00:00  23.928132   \n",
       "...                         ...                       ...        ...   \n",
       "69992 2022-09-09 14:40:00+00:00 2022-09-09 00:07:00+00:00   0.172809   \n",
       "69993 2022-09-08 10:51:00+00:00 2022-09-08 23:38:00+00:00   0.180729   \n",
       "69994 2022-09-07 20:35:00+00:00 2022-09-07 00:25:00+00:00   0.160813   \n",
       "69995 2022-09-06 05:52:00+00:00 2022-09-06 22:34:00+00:00   0.167330   \n",
       "69996 2022-09-05 23:47:00+00:00 2022-09-05 10:49:00+00:00   0.164176   \n",
       "\n",
       "            high        low      close       volume     marketCap  \\\n",
       "0      22.134155  21.245415  22.007561   4143538.56  4.334250e+08   \n",
       "1      22.378814  21.973939  22.112976   2786720.99  4.355011e+08   \n",
       "2      22.617469  21.838625  22.230870   3325798.48  4.378230e+08   \n",
       "3      24.051317  22.405723  22.425865   4976122.22  4.416633e+08   \n",
       "4      24.717275  23.843541  23.851016   7496710.34  4.679759e+08   \n",
       "...          ...        ...        ...          ...           ...   \n",
       "69992   0.184173   0.172616   0.180033  17857314.08  1.103780e+08   \n",
       "69993   0.184709   0.172417   0.172877  20517487.85  1.059910e+08   \n",
       "69994   0.183087   0.158008   0.180746  31035397.11  1.108152e+08   \n",
       "69995   0.173249   0.160693   0.160876  13153927.35  9.863266e+07   \n",
       "69996   0.167693   0.161478   0.167324   5721766.11  1.025861e+08   \n",
       "\n",
       "                      timestamp            Name  \n",
       "0      2023-09-03T23:59:59.999Z     Rocket Pool  \n",
       "1      2023-09-02T23:59:59.999Z     Rocket Pool  \n",
       "2      2023-09-01T23:59:59.999Z     Rocket Pool  \n",
       "3      2023-08-31T23:59:59.999Z     Rocket Pool  \n",
       "4      2023-08-30T23:59:59.999Z     Rocket Pool  \n",
       "...                         ...             ...  \n",
       "69992  2022-09-09T23:59:59.999Z  Ocean Protocol  \n",
       "69993  2022-09-08T23:59:59.999Z  Ocean Protocol  \n",
       "69994  2022-09-07T23:59:59.999Z  Ocean Protocol  \n",
       "69995  2022-09-06T23:59:59.999Z  Ocean Protocol  \n",
       "69996  2022-09-05T23:59:59.999Z  Ocean Protocol  \n",
       "\n",
       "[69997 rows x 12 columns]"
      ]
     },
     "execution_count": 17,
     "metadata": {},
     "output_type": "execute_result"
    }
   ],
   "source": [
    "year_df"
   ]
  }
 ],
 "metadata": {
  "kernelspec": {
   "display_name": "Python 3",
   "language": "python",
   "name": "python3"
  },
  "language_info": {
   "codemirror_mode": {
    "name": "ipython",
    "version": 3
   },
   "file_extension": ".py",
   "mimetype": "text/x-python",
   "name": "python",
   "nbconvert_exporter": "python",
   "pygments_lexer": "ipython3",
   "version": "3.11.4"
  },
  "orig_nbformat": 4
 },
 "nbformat": 4,
 "nbformat_minor": 2
}
